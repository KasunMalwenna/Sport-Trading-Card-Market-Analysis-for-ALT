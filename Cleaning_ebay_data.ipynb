{
 "cells": [
  {
   "attachments": {},
   "cell_type": "markdown",
   "id": "5421de23",
   "metadata": {},
   "source": [
    "<font size=\"8\"><center>Trading Cards on eBay - Data Cleaning and Preprocessing\n",
    "</center></font>\n"
   ]
  },
  {
   "attachments": {},
   "cell_type": "markdown",
   "id": "59b43073",
   "metadata": {},
   "source": [
    "\n",
    "<div class=\"alert alert-warning\">\n",
    "\n",
    "__Author__: -  Kasun Malwenna\n",
    "    \n",
    "\n",
    "__Contact__: - kasunmalwenna@gmail.com\n",
    "\n",
    "---\n",
    "\n",
    "This Notebook's objective is to gather Sports Trading card listings from eBay and execute data cleaning and wragling processes in order to prepare the data for exploratory data analysis. The analysis on the data is documented in *__eBay_data_analysis.ipynb__* notebook.\n",
    "\n",
    "---\n",
    "</div>"
   ]
  },
  {
   "attachments": {},
   "cell_type": "markdown",
   "id": "44297fc6",
   "metadata": {},
   "source": [
    "># Data Collection"
   ]
  },
  {
   "attachments": {},
   "cell_type": "markdown",
   "id": "1c70b73b",
   "metadata": {},
   "source": [
    "Current PSA graded Sports Trading Card listings on eBay USA were collected using [Apify eBay scrapper](https://apify.com/dtrungtin/ebay-items-scraper). Apify is a web scraping and automation platform that serves as an unofficial eBay API to extract data from eBay. It allows us to specify the product category, keywords, and other parameters to search for, and then it will extract data such as product name, price, description, and image URLs from the search results. Data was collected on 10th December 2022 and represents the most up-to-date \"Buy now\" listings on eBay and was exported to multiple CSV files."
   ]
  },
  {
   "attachments": {},
   "cell_type": "markdown",
   "id": "4c8bdbb1",
   "metadata": {},
   "source": [
    "### Loading the Data"
   ]
  },
  {
   "cell_type": "code",
   "execution_count": 1,
   "id": "7e593042",
   "metadata": {},
   "outputs": [],
   "source": [
    "# Standard library imports\n",
    "import pandas as pd\n",
    "import numpy as np\n",
    "\n",
    "# Library to search for a specific file patterns\n",
    "import glob"
   ]
  },
  {
   "attachments": {},
   "cell_type": "markdown",
   "id": "75008cfc",
   "metadata": {},
   "source": [
    "First, let's read in data from multiple CSV files saved in our local directory. We will use __glob__ library to search for a specific file pattern."
   ]
  },
  {
   "cell_type": "code",
   "execution_count": 2,
   "id": "b3dbe566",
   "metadata": {},
   "outputs": [],
   "source": [
    "# Define the path to the data and pattern to search for\n",
    "file_paths = glob.glob('psa data/*.csv')\n",
    "\n",
    "# Read the data into a single DataFrame\n",
    "df = pd.concat((pd.read_csv(file) for file in file_paths), ignore_index=True)\n"
   ]
  },
  {
   "cell_type": "code",
   "execution_count": 4,
   "id": "bae36cba",
   "metadata": {},
   "outputs": [
    {
     "name": "stdout",
     "output_type": "stream",
     "text": [
      "Dataframe has 104787 rows and  32 columns\n"
     ]
    }
   ],
   "source": [
    "#  Print the shape of the DataFrame\n",
    "df.shape\n",
    "\n",
    "print(f'Dataframe has {df.shape[0]} rows and  {df.shape[1]} columns')"
   ]
  },
  {
   "cell_type": "markdown",
   "id": "3e8482f1",
   "metadata": {},
   "source": [
    "Let's inspect the first 5 rows of the DataFrame."
   ]
  },
  {
   "cell_type": "code",
   "execution_count": 5,
   "id": "413ae375",
   "metadata": {},
   "outputs": [
    {
     "data": {
      "text/html": [
       "<div>\n",
       "<style scoped>\n",
       "    .dataframe tbody tr th:only-of-type {\n",
       "        vertical-align: middle;\n",
       "    }\n",
       "\n",
       "    .dataframe tbody tr th {\n",
       "        vertical-align: top;\n",
       "    }\n",
       "\n",
       "    .dataframe thead th {\n",
       "        text-align: right;\n",
       "    }\n",
       "</style>\n",
       "<table border=\"1\" class=\"dataframe\">\n",
       "  <thead>\n",
       "    <tr style=\"text-align: right;\">\n",
       "      <th></th>\n",
       "      <th>available</th>\n",
       "      <th>availableText</th>\n",
       "      <th>brand</th>\n",
       "      <th>ean</th>\n",
       "      <th>endedDate</th>\n",
       "      <th>itemLocation</th>\n",
       "      <th>itemNumber</th>\n",
       "      <th>mpn</th>\n",
       "      <th>price</th>\n",
       "      <th>priceWithCurrency</th>\n",
       "      <th>seller</th>\n",
       "      <th>sold</th>\n",
       "      <th>subTitle</th>\n",
       "      <th>title</th>\n",
       "      <th>type</th>\n",
       "      <th>upc</th>\n",
       "      <th>url</th>\n",
       "      <th>wasPrice</th>\n",
       "      <th>wasPriceWithCurrency</th>\n",
       "      <th>whyToBuy/0</th>\n",
       "      <th>whyToBuy/1</th>\n",
       "      <th>whyToBuy/2</th>\n",
       "      <th>image</th>\n",
       "      <th>whyToBuy/3</th>\n",
       "      <th>whyToBuy/4</th>\n",
       "      <th>whyToBuy/5</th>\n",
       "      <th>item_country</th>\n",
       "      <th>item_state</th>\n",
       "      <th>item_city</th>\n",
       "      <th>card_year</th>\n",
       "      <th>card_brand</th>\n",
       "      <th>card_singed</th>\n",
       "    </tr>\n",
       "  </thead>\n",
       "  <tbody>\n",
       "    <tr>\n",
       "      <th>0</th>\n",
       "      <td>NaN</td>\n",
       "      <td>NaN</td>\n",
       "      <td>NaN</td>\n",
       "      <td>NaN</td>\n",
       "      <td>NaN</td>\n",
       "      <td>Dearborn, Michigan, United States</td>\n",
       "      <td>3.242724e+11</td>\n",
       "      <td>NaN</td>\n",
       "      <td>12630069.0</td>\n",
       "      <td>US $12,630,069.00</td>\n",
       "      <td>nfarj</td>\n",
       "      <td>NaN</td>\n",
       "      <td>Best Ever! The Best PSA Serial #’d Card on the...</td>\n",
       "      <td>1986 86 Fleer Michael Jordan Rookie Sticker PS...</td>\n",
       "      <td>Sports Trading Card</td>\n",
       "      <td>NaN</td>\n",
       "      <td>https://www.ebay.com/itm/324272400062</td>\n",
       "      <td>NaN</td>\n",
       "      <td>NaN</td>\n",
       "      <td>Ships from United States</td>\n",
       "      <td>349 watchers</td>\n",
       "      <td>NaN</td>\n",
       "      <td>NaN</td>\n",
       "      <td>NaN</td>\n",
       "      <td>NaN</td>\n",
       "      <td>NaN</td>\n",
       "      <td>NaN</td>\n",
       "      <td>NaN</td>\n",
       "      <td>NaN</td>\n",
       "      <td>NaN</td>\n",
       "      <td>NaN</td>\n",
       "      <td>NaN</td>\n",
       "    </tr>\n",
       "    <tr>\n",
       "      <th>1</th>\n",
       "      <td>NaN</td>\n",
       "      <td>NaN</td>\n",
       "      <td>NaN</td>\n",
       "      <td>NaN</td>\n",
       "      <td>NaN</td>\n",
       "      <td>Livonia, Michigan, United States</td>\n",
       "      <td>1.950833e+11</td>\n",
       "      <td>NaN</td>\n",
       "      <td>7000000.0</td>\n",
       "      <td>US $7,000,000.00</td>\n",
       "      <td>cardguy444</td>\n",
       "      <td>NaN</td>\n",
       "      <td>HOLY GRAIL RAREST S/N TOM BRADY PSA 10 RC IN T...</td>\n",
       "      <td>SUPER RARE ( ELITE STATUS ) 2000 TOM BRADY ROO...</td>\n",
       "      <td>Sports Trading Card</td>\n",
       "      <td>NaN</td>\n",
       "      <td>https://www.ebay.com/itm/195083288951</td>\n",
       "      <td>NaN</td>\n",
       "      <td>NaN</td>\n",
       "      <td>Ships from United States</td>\n",
       "      <td>192 watchers</td>\n",
       "      <td>NaN</td>\n",
       "      <td>NaN</td>\n",
       "      <td>NaN</td>\n",
       "      <td>NaN</td>\n",
       "      <td>NaN</td>\n",
       "      <td>NaN</td>\n",
       "      <td>NaN</td>\n",
       "      <td>NaN</td>\n",
       "      <td>NaN</td>\n",
       "      <td>NaN</td>\n",
       "      <td>NaN</td>\n",
       "    </tr>\n",
       "    <tr>\n",
       "      <th>2</th>\n",
       "      <td>NaN</td>\n",
       "      <td>NaN</td>\n",
       "      <td>NaN</td>\n",
       "      <td>NaN</td>\n",
       "      <td>NaN</td>\n",
       "      <td>San Antonio, Texas, United States</td>\n",
       "      <td>2.850249e+11</td>\n",
       "      <td>NaN</td>\n",
       "      <td>5000000.0</td>\n",
       "      <td>US $5,000,000.00</td>\n",
       "      <td>sa-techboy</td>\n",
       "      <td>NaN</td>\n",
       "      <td>NaN</td>\n",
       "      <td>2003 LEBRON JAMES RC UD ROOKIE EXCLUSIVES AUTO...</td>\n",
       "      <td>Sports Trading Card</td>\n",
       "      <td>NaN</td>\n",
       "      <td>https://www.ebay.com/itm/285024859926</td>\n",
       "      <td>NaN</td>\n",
       "      <td>NaN</td>\n",
       "      <td>Ships from United States</td>\n",
       "      <td>NaN</td>\n",
       "      <td>NaN</td>\n",
       "      <td>NaN</td>\n",
       "      <td>NaN</td>\n",
       "      <td>NaN</td>\n",
       "      <td>NaN</td>\n",
       "      <td>NaN</td>\n",
       "      <td>NaN</td>\n",
       "      <td>NaN</td>\n",
       "      <td>NaN</td>\n",
       "      <td>NaN</td>\n",
       "      <td>NaN</td>\n",
       "    </tr>\n",
       "    <tr>\n",
       "      <th>3</th>\n",
       "      <td>NaN</td>\n",
       "      <td>NaN</td>\n",
       "      <td>NaN</td>\n",
       "      <td>NaN</td>\n",
       "      <td>NaN</td>\n",
       "      <td>Livonia, Michigan, United States</td>\n",
       "      <td>1.955095e+11</td>\n",
       "      <td>NaN</td>\n",
       "      <td>4500000.0</td>\n",
       "      <td>US $4,500,000.00</td>\n",
       "      <td>cardguy444</td>\n",
       "      <td>NaN</td>\n",
       "      <td>NaN</td>\n",
       "      <td>2003 TOM BRADY LEAF LIMITED # 12/12 GAME-WORN-...</td>\n",
       "      <td>Sports Trading Card</td>\n",
       "      <td>NaN</td>\n",
       "      <td>https://www.ebay.com/itm/195509543378</td>\n",
       "      <td>NaN</td>\n",
       "      <td>NaN</td>\n",
       "      <td>Ships from United States</td>\n",
       "      <td>8 watchers</td>\n",
       "      <td>NaN</td>\n",
       "      <td>NaN</td>\n",
       "      <td>NaN</td>\n",
       "      <td>NaN</td>\n",
       "      <td>NaN</td>\n",
       "      <td>NaN</td>\n",
       "      <td>NaN</td>\n",
       "      <td>NaN</td>\n",
       "      <td>NaN</td>\n",
       "      <td>NaN</td>\n",
       "      <td>NaN</td>\n",
       "    </tr>\n",
       "    <tr>\n",
       "      <th>4</th>\n",
       "      <td>NaN</td>\n",
       "      <td>NaN</td>\n",
       "      <td>NaN</td>\n",
       "      <td>NaN</td>\n",
       "      <td>NaN</td>\n",
       "      <td>Indianapolis, Indiana, United States</td>\n",
       "      <td>2.040748e+11</td>\n",
       "      <td>NaN</td>\n",
       "      <td>3900000.0</td>\n",
       "      <td>US $3,900,000.00</td>\n",
       "      <td>tb12mb07</td>\n",
       "      <td>NaN</td>\n",
       "      <td>NaN</td>\n",
       "      <td>RARE 2007 Tom Brady Autograph Plaque 16-0 #Und...</td>\n",
       "      <td>Sports Trading Card</td>\n",
       "      <td>NaN</td>\n",
       "      <td>https://www.ebay.com/itm/204074772841</td>\n",
       "      <td>NaN</td>\n",
       "      <td>NaN</td>\n",
       "      <td>Ships from United States</td>\n",
       "      <td>9 watchers</td>\n",
       "      <td>NaN</td>\n",
       "      <td>NaN</td>\n",
       "      <td>NaN</td>\n",
       "      <td>NaN</td>\n",
       "      <td>NaN</td>\n",
       "      <td>NaN</td>\n",
       "      <td>NaN</td>\n",
       "      <td>NaN</td>\n",
       "      <td>NaN</td>\n",
       "      <td>NaN</td>\n",
       "      <td>NaN</td>\n",
       "    </tr>\n",
       "  </tbody>\n",
       "</table>\n",
       "</div>"
      ],
      "text/plain": [
       "   available availableText brand  ean endedDate  \\\n",
       "0        NaN           NaN   NaN  NaN       NaN   \n",
       "1        NaN           NaN   NaN  NaN       NaN   \n",
       "2        NaN           NaN   NaN  NaN       NaN   \n",
       "3        NaN           NaN   NaN  NaN       NaN   \n",
       "4        NaN           NaN   NaN  NaN       NaN   \n",
       "\n",
       "                           itemLocation    itemNumber  mpn       price  \\\n",
       "0     Dearborn, Michigan, United States  3.242724e+11  NaN  12630069.0   \n",
       "1      Livonia, Michigan, United States  1.950833e+11  NaN   7000000.0   \n",
       "2     San Antonio, Texas, United States  2.850249e+11  NaN   5000000.0   \n",
       "3      Livonia, Michigan, United States  1.955095e+11  NaN   4500000.0   \n",
       "4  Indianapolis, Indiana, United States  2.040748e+11  NaN   3900000.0   \n",
       "\n",
       "   priceWithCurrency      seller  sold  \\\n",
       "0  US $12,630,069.00       nfarj   NaN   \n",
       "1   US $7,000,000.00  cardguy444   NaN   \n",
       "2   US $5,000,000.00  sa-techboy   NaN   \n",
       "3   US $4,500,000.00  cardguy444   NaN   \n",
       "4   US $3,900,000.00    tb12mb07   NaN   \n",
       "\n",
       "                                            subTitle  \\\n",
       "0  Best Ever! The Best PSA Serial #’d Card on the...   \n",
       "1  HOLY GRAIL RAREST S/N TOM BRADY PSA 10 RC IN T...   \n",
       "2                                                NaN   \n",
       "3                                                NaN   \n",
       "4                                                NaN   \n",
       "\n",
       "                                               title                 type  \\\n",
       "0  1986 86 Fleer Michael Jordan Rookie Sticker PS...  Sports Trading Card   \n",
       "1  SUPER RARE ( ELITE STATUS ) 2000 TOM BRADY ROO...  Sports Trading Card   \n",
       "2  2003 LEBRON JAMES RC UD ROOKIE EXCLUSIVES AUTO...  Sports Trading Card   \n",
       "3  2003 TOM BRADY LEAF LIMITED # 12/12 GAME-WORN-...  Sports Trading Card   \n",
       "4  RARE 2007 Tom Brady Autograph Plaque 16-0 #Und...  Sports Trading Card   \n",
       "\n",
       "   upc                                    url  wasPrice  wasPriceWithCurrency  \\\n",
       "0  NaN  https://www.ebay.com/itm/324272400062       NaN                   NaN   \n",
       "1  NaN  https://www.ebay.com/itm/195083288951       NaN                   NaN   \n",
       "2  NaN  https://www.ebay.com/itm/285024859926       NaN                   NaN   \n",
       "3  NaN  https://www.ebay.com/itm/195509543378       NaN                   NaN   \n",
       "4  NaN  https://www.ebay.com/itm/204074772841       NaN                   NaN   \n",
       "\n",
       "                 whyToBuy/0    whyToBuy/1 whyToBuy/2 image whyToBuy/3  \\\n",
       "0  Ships from United States  349 watchers        NaN   NaN        NaN   \n",
       "1  Ships from United States  192 watchers        NaN   NaN        NaN   \n",
       "2  Ships from United States           NaN        NaN   NaN        NaN   \n",
       "3  Ships from United States    8 watchers        NaN   NaN        NaN   \n",
       "4  Ships from United States    9 watchers        NaN   NaN        NaN   \n",
       "\n",
       "   whyToBuy/4 whyToBuy/5 item_country item_state item_city  card_year  \\\n",
       "0         NaN        NaN          NaN        NaN       NaN        NaN   \n",
       "1         NaN        NaN          NaN        NaN       NaN        NaN   \n",
       "2         NaN        NaN          NaN        NaN       NaN        NaN   \n",
       "3         NaN        NaN          NaN        NaN       NaN        NaN   \n",
       "4         NaN        NaN          NaN        NaN       NaN        NaN   \n",
       "\n",
       "  card_brand card_singed  \n",
       "0        NaN         NaN  \n",
       "1        NaN         NaN  \n",
       "2        NaN         NaN  \n",
       "3        NaN         NaN  \n",
       "4        NaN         NaN  "
      ]
     },
     "execution_count": 5,
     "metadata": {},
     "output_type": "execute_result"
    }
   ],
   "source": [
    "# display all columns in dataframe\n",
    "pd.set_option('display.max_columns', None)\n",
    "\n",
    "# show the first 5 rows\n",
    "df.head()"
   ]
  },
  {
   "cell_type": "markdown",
   "id": "eccbd4a7",
   "metadata": {},
   "source": [
    "We should inspect the dataset to highlight if any cleaning is required."
   ]
  },
  {
   "cell_type": "code",
   "execution_count": 6,
   "id": "1ae20194",
   "metadata": {},
   "outputs": [
    {
     "name": "stdout",
     "output_type": "stream",
     "text": [
      "<class 'pandas.core.frame.DataFrame'>\n",
      "RangeIndex: 104787 entries, 0 to 104786\n",
      "Data columns (total 32 columns):\n",
      " #   Column                Non-Null Count   Dtype  \n",
      "---  ------                --------------   -----  \n",
      " 0   available             1157 non-null    float64\n",
      " 1   availableText         1157 non-null    object \n",
      " 2   brand                 287 non-null     object \n",
      " 3   ean                   16 non-null      object \n",
      " 4   endedDate             1 non-null       object \n",
      " 5   itemLocation          60447 non-null   object \n",
      " 6   itemNumber            60473 non-null   float64\n",
      " 7   mpn                   72 non-null      object \n",
      " 8   price                 104768 non-null  float64\n",
      " 9   priceWithCurrency     60454 non-null   object \n",
      " 10  seller                59996 non-null   object \n",
      " 11  sold                  146 non-null     float64\n",
      " 12  subTitle              2094 non-null    object \n",
      " 13  title                 104767 non-null  object \n",
      " 14  type                  53995 non-null   object \n",
      " 15  upc                   5097 non-null    object \n",
      " 16  url                   104787 non-null  object \n",
      " 17  wasPrice              0 non-null       float64\n",
      " 18  wasPriceWithCurrency  0 non-null       float64\n",
      " 19  whyToBuy/0            100818 non-null  object \n",
      " 20  whyToBuy/1            25488 non-null   object \n",
      " 21  whyToBuy/2            2944 non-null    object \n",
      " 22  image                 1 non-null       object \n",
      " 23  whyToBuy/3            42 non-null      object \n",
      " 24  whyToBuy/4            2 non-null       float64\n",
      " 25  whyToBuy/5            2 non-null       object \n",
      " 26  item_country          44314 non-null   object \n",
      " 27  item_state            44314 non-null   object \n",
      " 28  item_city             44314 non-null   object \n",
      " 29  card_year             44314 non-null   float64\n",
      " 30  card_brand            44314 non-null   object \n",
      " 31  card_singed           44314 non-null   object \n",
      "dtypes: float64(8), object(24)\n",
      "memory usage: 25.6+ MB\n"
     ]
    }
   ],
   "source": [
    "# Dataframe info\n",
    "df.info()"
   ]
  },
  {
   "cell_type": "markdown",
   "id": "2921b120",
   "metadata": {},
   "source": [
    "It seems there are lot of columns with missing values that needs to be dealt with."
   ]
  },
  {
   "attachments": {},
   "cell_type": "markdown",
   "id": "eb053f07",
   "metadata": {},
   "source": [
    "---\n",
    "># Data Cleaning"
   ]
  },
  {
   "attachments": {},
   "cell_type": "markdown",
   "id": "26672094",
   "metadata": {},
   "source": [
    "### Check for Missing Values"
   ]
  },
  {
   "cell_type": "markdown",
   "id": "e88c6455",
   "metadata": {},
   "source": [
    "Let's look at the missing values for each column."
   ]
  },
  {
   "cell_type": "code",
   "execution_count": 7,
   "id": "f4147ce2",
   "metadata": {},
   "outputs": [
    {
     "data": {
      "text/plain": [
       "available               103630\n",
       "availableText           103630\n",
       "brand                   104500\n",
       "ean                     104771\n",
       "endedDate               104786\n",
       "itemLocation             44340\n",
       "itemNumber               44314\n",
       "mpn                     104715\n",
       "price                       19\n",
       "priceWithCurrency        44333\n",
       "seller                   44791\n",
       "sold                    104641\n",
       "subTitle                102693\n",
       "title                       20\n",
       "type                     50792\n",
       "upc                      99690\n",
       "url                          0\n",
       "wasPrice                104787\n",
       "wasPriceWithCurrency    104787\n",
       "whyToBuy/0                3969\n",
       "whyToBuy/1               79299\n",
       "whyToBuy/2              101843\n",
       "image                   104786\n",
       "whyToBuy/3              104745\n",
       "whyToBuy/4              104785\n",
       "whyToBuy/5              104785\n",
       "item_country             60473\n",
       "item_state               60473\n",
       "item_city                60473\n",
       "card_year                60473\n",
       "card_brand               60473\n",
       "card_singed              60473\n",
       "dtype: int64"
      ]
     },
     "execution_count": 7,
     "metadata": {},
     "output_type": "execute_result"
    }
   ],
   "source": [
    "# Check  missing values\n",
    "df.isnull().sum()"
   ]
  },
  {
   "cell_type": "markdown",
   "id": "6cfce98a",
   "metadata": {},
   "source": [
    "To get a better understating of the proportion, let's check missing values as a percentage of the total number of values in each column."
   ]
  },
  {
   "cell_type": "code",
   "execution_count": 8,
   "id": "afcbbde2",
   "metadata": {},
   "outputs": [
    {
     "data": {
      "text/plain": [
       "available                98.895855\n",
       "availableText            98.895855\n",
       "brand                    99.726111\n",
       "ean                      99.984731\n",
       "endedDate                99.999046\n",
       "itemLocation             42.314409\n",
       "itemNumber               42.289597\n",
       "mpn                      99.931289\n",
       "price                     0.018132\n",
       "priceWithCurrency        42.307729\n",
       "seller                   42.744806\n",
       "sold                     99.860670\n",
       "subTitle                 98.001661\n",
       "title                     0.019086\n",
       "type                     48.471662\n",
       "upc                      95.135847\n",
       "url                       0.000000\n",
       "wasPrice                100.000000\n",
       "wasPriceWithCurrency    100.000000\n",
       "whyToBuy/0                3.787684\n",
       "whyToBuy/1               75.676372\n",
       "whyToBuy/2               97.190491\n",
       "image                    99.999046\n",
       "whyToBuy/3               99.959919\n",
       "whyToBuy/4               99.998091\n",
       "whyToBuy/5               99.998091\n",
       "item_country             57.710403\n",
       "item_state               57.710403\n",
       "item_city                57.710403\n",
       "card_year                57.710403\n",
       "card_brand               57.710403\n",
       "card_singed              57.710403\n",
       "dtype: float64"
      ]
     },
     "execution_count": 8,
     "metadata": {},
     "output_type": "execute_result"
    }
   ],
   "source": [
    "# check missing value precentage\n",
    "df.isnull().sum()/len(df)*100\n"
   ]
  },
  {
   "cell_type": "markdown",
   "id": "886201d9",
   "metadata": {},
   "source": [
    "We observe a number of columns with a large proportion of missing values. Some are even missing more than 90% of the data. As these columns will be redundant for our analysis, we can drop them.\n",
    "To begin with, 50% of missing data in a column can be a good threshold to remove the column entirely.\n"
   ]
  },
  {
   "cell_type": "code",
   "execution_count": 9,
   "id": "e7fbce92",
   "metadata": {},
   "outputs": [
    {
     "data": {
      "text/html": [
       "<div>\n",
       "<style scoped>\n",
       "    .dataframe tbody tr th:only-of-type {\n",
       "        vertical-align: middle;\n",
       "    }\n",
       "\n",
       "    .dataframe tbody tr th {\n",
       "        vertical-align: top;\n",
       "    }\n",
       "\n",
       "    .dataframe thead th {\n",
       "        text-align: right;\n",
       "    }\n",
       "</style>\n",
       "<table border=\"1\" class=\"dataframe\">\n",
       "  <thead>\n",
       "    <tr style=\"text-align: right;\">\n",
       "      <th></th>\n",
       "      <th>itemLocation</th>\n",
       "      <th>itemNumber</th>\n",
       "      <th>price</th>\n",
       "      <th>priceWithCurrency</th>\n",
       "      <th>seller</th>\n",
       "      <th>title</th>\n",
       "      <th>type</th>\n",
       "      <th>url</th>\n",
       "      <th>whyToBuy/0</th>\n",
       "    </tr>\n",
       "  </thead>\n",
       "  <tbody>\n",
       "    <tr>\n",
       "      <th>0</th>\n",
       "      <td>Dearborn, Michigan, United States</td>\n",
       "      <td>3.242724e+11</td>\n",
       "      <td>12630069.0</td>\n",
       "      <td>US $12,630,069.00</td>\n",
       "      <td>nfarj</td>\n",
       "      <td>1986 86 Fleer Michael Jordan Rookie Sticker PS...</td>\n",
       "      <td>Sports Trading Card</td>\n",
       "      <td>https://www.ebay.com/itm/324272400062</td>\n",
       "      <td>Ships from United States</td>\n",
       "    </tr>\n",
       "    <tr>\n",
       "      <th>1</th>\n",
       "      <td>Livonia, Michigan, United States</td>\n",
       "      <td>1.950833e+11</td>\n",
       "      <td>7000000.0</td>\n",
       "      <td>US $7,000,000.00</td>\n",
       "      <td>cardguy444</td>\n",
       "      <td>SUPER RARE ( ELITE STATUS ) 2000 TOM BRADY ROO...</td>\n",
       "      <td>Sports Trading Card</td>\n",
       "      <td>https://www.ebay.com/itm/195083288951</td>\n",
       "      <td>Ships from United States</td>\n",
       "    </tr>\n",
       "    <tr>\n",
       "      <th>2</th>\n",
       "      <td>San Antonio, Texas, United States</td>\n",
       "      <td>2.850249e+11</td>\n",
       "      <td>5000000.0</td>\n",
       "      <td>US $5,000,000.00</td>\n",
       "      <td>sa-techboy</td>\n",
       "      <td>2003 LEBRON JAMES RC UD ROOKIE EXCLUSIVES AUTO...</td>\n",
       "      <td>Sports Trading Card</td>\n",
       "      <td>https://www.ebay.com/itm/285024859926</td>\n",
       "      <td>Ships from United States</td>\n",
       "    </tr>\n",
       "    <tr>\n",
       "      <th>3</th>\n",
       "      <td>Livonia, Michigan, United States</td>\n",
       "      <td>1.955095e+11</td>\n",
       "      <td>4500000.0</td>\n",
       "      <td>US $4,500,000.00</td>\n",
       "      <td>cardguy444</td>\n",
       "      <td>2003 TOM BRADY LEAF LIMITED # 12/12 GAME-WORN-...</td>\n",
       "      <td>Sports Trading Card</td>\n",
       "      <td>https://www.ebay.com/itm/195509543378</td>\n",
       "      <td>Ships from United States</td>\n",
       "    </tr>\n",
       "    <tr>\n",
       "      <th>4</th>\n",
       "      <td>Indianapolis, Indiana, United States</td>\n",
       "      <td>2.040748e+11</td>\n",
       "      <td>3900000.0</td>\n",
       "      <td>US $3,900,000.00</td>\n",
       "      <td>tb12mb07</td>\n",
       "      <td>RARE 2007 Tom Brady Autograph Plaque 16-0 #Und...</td>\n",
       "      <td>Sports Trading Card</td>\n",
       "      <td>https://www.ebay.com/itm/204074772841</td>\n",
       "      <td>Ships from United States</td>\n",
       "    </tr>\n",
       "  </tbody>\n",
       "</table>\n",
       "</div>"
      ],
      "text/plain": [
       "                           itemLocation    itemNumber       price  \\\n",
       "0     Dearborn, Michigan, United States  3.242724e+11  12630069.0   \n",
       "1      Livonia, Michigan, United States  1.950833e+11   7000000.0   \n",
       "2     San Antonio, Texas, United States  2.850249e+11   5000000.0   \n",
       "3      Livonia, Michigan, United States  1.955095e+11   4500000.0   \n",
       "4  Indianapolis, Indiana, United States  2.040748e+11   3900000.0   \n",
       "\n",
       "   priceWithCurrency      seller  \\\n",
       "0  US $12,630,069.00       nfarj   \n",
       "1   US $7,000,000.00  cardguy444   \n",
       "2   US $5,000,000.00  sa-techboy   \n",
       "3   US $4,500,000.00  cardguy444   \n",
       "4   US $3,900,000.00    tb12mb07   \n",
       "\n",
       "                                               title                 type  \\\n",
       "0  1986 86 Fleer Michael Jordan Rookie Sticker PS...  Sports Trading Card   \n",
       "1  SUPER RARE ( ELITE STATUS ) 2000 TOM BRADY ROO...  Sports Trading Card   \n",
       "2  2003 LEBRON JAMES RC UD ROOKIE EXCLUSIVES AUTO...  Sports Trading Card   \n",
       "3  2003 TOM BRADY LEAF LIMITED # 12/12 GAME-WORN-...  Sports Trading Card   \n",
       "4  RARE 2007 Tom Brady Autograph Plaque 16-0 #Und...  Sports Trading Card   \n",
       "\n",
       "                                     url                whyToBuy/0  \n",
       "0  https://www.ebay.com/itm/324272400062  Ships from United States  \n",
       "1  https://www.ebay.com/itm/195083288951  Ships from United States  \n",
       "2  https://www.ebay.com/itm/285024859926  Ships from United States  \n",
       "3  https://www.ebay.com/itm/195509543378  Ships from United States  \n",
       "4  https://www.ebay.com/itm/204074772841  Ships from United States  "
      ]
     },
     "execution_count": 9,
     "metadata": {},
     "output_type": "execute_result"
    }
   ],
   "source": [
    "# drop coulumns with more than 50% missing values\n",
    "df.dropna(thresh=len(df)*0.5, axis=1, inplace=True)\n",
    "#check\n",
    "df.head()"
   ]
  },
  {
   "cell_type": "code",
   "execution_count": 11,
   "id": "46936987",
   "metadata": {},
   "outputs": [
    {
     "data": {
      "text/plain": [
       "itemLocation         42.314409\n",
       "itemNumber           42.289597\n",
       "price                 0.018132\n",
       "priceWithCurrency    42.307729\n",
       "seller               42.744806\n",
       "title                 0.019086\n",
       "type                 48.471662\n",
       "url                   0.000000\n",
       "whyToBuy/0            3.787684\n",
       "dtype: float64"
      ]
     },
     "execution_count": 11,
     "metadata": {},
     "output_type": "execute_result"
    }
   ],
   "source": [
    "# check\n",
    "df.isnull().sum()/len(df)*100"
   ]
  },
  {
   "cell_type": "markdown",
   "id": "d9689092",
   "metadata": {},
   "source": [
    "We now have only 9 columns left where some columns still have a large number of missing values. Let's check columns one by one and deal with them accordingly."
   ]
  },
  {
   "attachments": {},
   "cell_type": "markdown",
   "id": "c0d94210",
   "metadata": {},
   "source": [
    "### Cleaning by Each Column"
   ]
  },
  {
   "attachments": {},
   "cell_type": "markdown",
   "id": "1b0a0fff",
   "metadata": {},
   "source": [
    "#### `itemNumber` Column"
   ]
  },
  {
   "cell_type": "code",
   "execution_count": 12,
   "id": "304d8e32",
   "metadata": {},
   "outputs": [
    {
     "data": {
      "text/plain": [
       "0    3.242724e+11\n",
       "1    1.950833e+11\n",
       "2    2.850249e+11\n",
       "3    1.955095e+11\n",
       "4    2.040748e+11\n",
       "Name: itemNumber, dtype: float64"
      ]
     },
     "execution_count": 12,
     "metadata": {},
     "output_type": "execute_result"
    }
   ],
   "source": [
    "# Inspect the first 5 rows of the itemNumber column\n",
    "df.itemNumber.head()"
   ]
  },
  {
   "cell_type": "markdown",
   "id": "5e5cac71",
   "metadata": {},
   "source": [
    "These are just numbers assigned to each item that does not relate to any meaningful information. So we will drop it."
   ]
  },
  {
   "cell_type": "code",
   "execution_count": 13,
   "id": "71480128",
   "metadata": {},
   "outputs": [],
   "source": [
    "# drop column \n",
    "df.drop(['itemNumber'], axis=1, inplace=True)\n"
   ]
  },
  {
   "attachments": {},
   "cell_type": "markdown",
   "id": "945c5895",
   "metadata": {},
   "source": [
    "#### `type` column"
   ]
  },
  {
   "cell_type": "code",
   "execution_count": 14,
   "id": "0c447ee5",
   "metadata": {},
   "outputs": [
    {
     "data": {
      "text/plain": [
       "array(['Sports Trading Card', nan, 'Sports Trading Cards', 'RARE', 'none',\n",
       "       'Non-sports Trading Card', 'Basketball-NBA/Unsigned Memoribilia',\n",
       "       'DDA', 'Hockey-NHL/Unsigned Memorabilia', 'Single',\n",
       "       'Sports Trading Card2018 Panini', 'mlb singles',\n",
       "       'Non-Sport Trading Card', 'Action Figure',\n",
       "       'Trading Cards/ Stickers', 'Autograph Ball', 'Topps', 'Rookie',\n",
       "       'Trading Card', 'nba singles', 'None', 'Sports'], dtype=object)"
      ]
     },
     "execution_count": 14,
     "metadata": {},
     "output_type": "execute_result"
    }
   ],
   "source": [
    "# Inspect unique values in the type column\n",
    "df.type.unique()"
   ]
  },
  {
   "attachments": {},
   "cell_type": "markdown",
   "id": "0083ba04",
   "metadata": {},
   "source": [
    "Information from type column is not useful as it is unclear and doesn't tell us about the type of sport.so we will drop it.`"
   ]
  },
  {
   "cell_type": "code",
   "execution_count": 15,
   "id": "4fe9ebea",
   "metadata": {},
   "outputs": [
    {
     "data": {
      "text/plain": [
       "Index(['itemLocation', 'price', 'priceWithCurrency', 'seller', 'title', 'url',\n",
       "       'whyToBuy/0'],\n",
       "      dtype='object')"
      ]
     },
     "execution_count": 15,
     "metadata": {},
     "output_type": "execute_result"
    }
   ],
   "source": [
    "# drop column\n",
    "df.drop(['type'], axis=1, inplace=True)\n",
    "\n",
    "# check\n",
    "df.columns"
   ]
  },
  {
   "attachments": {},
   "cell_type": "markdown",
   "id": "85f0d2ae",
   "metadata": {},
   "source": [
    "#### `priceWithCurrency` column"
   ]
  },
  {
   "cell_type": "code",
   "execution_count": 18,
   "id": "d19a6794",
   "metadata": {},
   "outputs": [
    {
     "data": {
      "text/plain": [
       "array(['US $12,630,069.00', 'US $7,000,000.00', 'US $5,000,000.00', ...,\n",
       "       'C $450.00', 'US $424.00', 'US $237.83'], dtype=object)"
      ]
     },
     "execution_count": 18,
     "metadata": {},
     "output_type": "execute_result"
    }
   ],
   "source": [
    "# Inspect unique values \n",
    "df.priceWithCurrency.unique()"
   ]
  },
  {
   "attachments": {},
   "cell_type": "markdown",
   "id": "4b580d2a",
   "metadata": {},
   "source": [
    "the column seems to have  same information as the column 'price'. Let's double check this claim. "
   ]
  },
  {
   "cell_type": "code",
   "execution_count": 19,
   "id": "dc0ae200",
   "metadata": {},
   "outputs": [
    {
     "data": {
      "text/html": [
       "<div>\n",
       "<style scoped>\n",
       "    .dataframe tbody tr th:only-of-type {\n",
       "        vertical-align: middle;\n",
       "    }\n",
       "\n",
       "    .dataframe tbody tr th {\n",
       "        vertical-align: top;\n",
       "    }\n",
       "\n",
       "    .dataframe thead th {\n",
       "        text-align: right;\n",
       "    }\n",
       "</style>\n",
       "<table border=\"1\" class=\"dataframe\">\n",
       "  <thead>\n",
       "    <tr style=\"text-align: right;\">\n",
       "      <th></th>\n",
       "      <th>price</th>\n",
       "      <th>priceWithCurrency</th>\n",
       "    </tr>\n",
       "  </thead>\n",
       "  <tbody>\n",
       "    <tr>\n",
       "      <th>0</th>\n",
       "      <td>12630069.0</td>\n",
       "      <td>US $12,630,069.00</td>\n",
       "    </tr>\n",
       "    <tr>\n",
       "      <th>1</th>\n",
       "      <td>7000000.0</td>\n",
       "      <td>US $7,000,000.00</td>\n",
       "    </tr>\n",
       "    <tr>\n",
       "      <th>2</th>\n",
       "      <td>5000000.0</td>\n",
       "      <td>US $5,000,000.00</td>\n",
       "    </tr>\n",
       "    <tr>\n",
       "      <th>3</th>\n",
       "      <td>4500000.0</td>\n",
       "      <td>US $4,500,000.00</td>\n",
       "    </tr>\n",
       "    <tr>\n",
       "      <th>4</th>\n",
       "      <td>3900000.0</td>\n",
       "      <td>US $3,900,000.00</td>\n",
       "    </tr>\n",
       "  </tbody>\n",
       "</table>\n",
       "</div>"
      ],
      "text/plain": [
       "        price  priceWithCurrency\n",
       "0  12630069.0  US $12,630,069.00\n",
       "1   7000000.0   US $7,000,000.00\n",
       "2   5000000.0   US $5,000,000.00\n",
       "3   4500000.0   US $4,500,000.00\n",
       "4   3900000.0   US $3,900,000.00"
      ]
     },
     "execution_count": 19,
     "metadata": {},
     "output_type": "execute_result"
    }
   ],
   "source": [
    "# check\n",
    "df[['price', 'priceWithCurrency']].head()"
   ]
  },
  {
   "attachments": {},
   "cell_type": "markdown",
   "id": "df8124a5",
   "metadata": {},
   "source": [
    "We can drop the column `priceWithCurrency` as it is duplicate of `price` column."
   ]
  },
  {
   "cell_type": "code",
   "execution_count": 20,
   "id": "bb44a2cd",
   "metadata": {},
   "outputs": [
    {
     "data": {
      "text/plain": [
       "Index(['itemLocation', 'price', 'seller', 'title', 'url', 'whyToBuy/0'], dtype='object')"
      ]
     },
     "execution_count": 20,
     "metadata": {},
     "output_type": "execute_result"
    }
   ],
   "source": [
    "# drop column\n",
    "df.drop(['priceWithCurrency'], axis=1, inplace=True)\n",
    "\n",
    "# check\n",
    "df.columns"
   ]
  },
  {
   "attachments": {},
   "cell_type": "markdown",
   "id": "10c603ca",
   "metadata": {},
   "source": [
    "#### `whyToBuy/0` colum\n"
   ]
  },
  {
   "cell_type": "code",
   "execution_count": 21,
   "id": "453de1ba",
   "metadata": {},
   "outputs": [
    {
     "data": {
      "text/plain": [
       "Ships from United States     77743\n",
       "Returns accepted             10698\n",
       "Free shipping and returns     3249\n",
       "Unknown                       2818\n",
       "5 watchers                     458\n",
       "                             ...  \n",
       "127 watchers                     1\n",
       "96 watchers                      1\n",
       "92 watchers                      1\n",
       "183 watchers                     1\n",
       "58 watchers                      1\n",
       "Name: whyToBuy/0, Length: 167, dtype: int64"
      ]
     },
     "execution_count": 21,
     "metadata": {},
     "output_type": "execute_result"
    }
   ],
   "source": [
    "# Inspect unique value counts\n",
    "df['whyToBuy/0'].value_counts()"
   ]
  },
  {
   "attachments": {},
   "cell_type": "markdown",
   "id": "1024bdba",
   "metadata": {},
   "source": [
    "This information can be usefull for the analysis. Less than 4% of data is missing from the column. Therefore, we can impute the missing values with 'Unknwon' string."
   ]
  },
  {
   "cell_type": "code",
   "execution_count": 22,
   "id": "a224d06a",
   "metadata": {},
   "outputs": [
    {
     "data": {
      "text/plain": [
       "0"
      ]
     },
     "execution_count": 22,
     "metadata": {},
     "output_type": "execute_result"
    }
   ],
   "source": [
    "# Impute missing values with a string 'Unknown'\n",
    "df['whyToBuy/0'].fillna('Unknown', inplace=True)\n",
    "\n",
    "# check\n",
    "df['whyToBuy/0'].isnull().sum()\n"
   ]
  },
  {
   "attachments": {},
   "cell_type": "markdown",
   "id": "31b426c2",
   "metadata": {},
   "source": [
    "#### `seller` column"
   ]
  },
  {
   "cell_type": "code",
   "execution_count": 23,
   "id": "b9a3841d",
   "metadata": {},
   "outputs": [
    {
     "data": {
      "text/plain": [
       "array(['nfarj', 'cardguy444', 'sa-techboy', ..., 'kennynell',\n",
       "       'bigglesworth00', 'timboslice38'], dtype=object)"
      ]
     },
     "execution_count": 23,
     "metadata": {},
     "output_type": "execute_result"
    }
   ],
   "source": [
    "# Inspect unique values\n",
    "df.seller.unique()"
   ]
  },
  {
   "attachments": {},
   "cell_type": "markdown",
   "id": "09367d8f",
   "metadata": {},
   "source": [
    "Not a useful column. "
   ]
  },
  {
   "cell_type": "code",
   "execution_count": 24,
   "id": "405201e1",
   "metadata": {},
   "outputs": [
    {
     "data": {
      "text/plain": [
       "Index(['itemLocation', 'price', 'title', 'url', 'whyToBuy/0'], dtype='object')"
      ]
     },
     "execution_count": 24,
     "metadata": {},
     "output_type": "execute_result"
    }
   ],
   "source": [
    "# drop seller column\n",
    "df.drop(['seller'], axis=1, inplace=True)\n",
    "\n",
    "# check\n",
    "df.columns"
   ]
  },
  {
   "attachments": {},
   "cell_type": "markdown",
   "id": "bb7d1d58",
   "metadata": {},
   "source": [
    "#### `itemLoaction` column"
   ]
  },
  {
   "cell_type": "code",
   "execution_count": 25,
   "id": "5b009c88",
   "metadata": {},
   "outputs": [
    {
     "data": {
      "text/plain": [
       "array(['Dearborn, Michigan, United States',\n",
       "       'Livonia, Michigan, United States',\n",
       "       'San Antonio, Texas, United States', ..., 'Fredericton, Canada',\n",
       "       'Baden, Canada', 'Ardmore, Alabama, United States'], dtype=object)"
      ]
     },
     "execution_count": 25,
     "metadata": {},
     "output_type": "execute_result"
    }
   ],
   "source": [
    "# Inspect unique values\n",
    "df.itemLocation.unique()"
   ]
  },
  {
   "attachments": {},
   "cell_type": "markdown",
   "id": "467cdb2c",
   "metadata": {},
   "source": [
    "We can do feature extraction from `itemLocation` column. But first, we need to deal with the missing values. There is no real way to impute missing values as we do not have any other columns pointing towards geographical information on the listing.\n",
    "The next option is to drop only the rows with missing values which take up nearly 43% of data from the total data. This will severely reduce the number of observations we have and is not the best approach. However, since we want to perform a market analysis on trading cards, and location information for that is crucial, let’s go ahead and drop only the missing observations.\n"
   ]
  },
  {
   "cell_type": "code",
   "execution_count": 26,
   "id": "79a52997",
   "metadata": {},
   "outputs": [
    {
     "data": {
      "text/plain": [
       "(104787, 5)"
      ]
     },
     "execution_count": 26,
     "metadata": {},
     "output_type": "execute_result"
    }
   ],
   "source": [
    "# Current shape of the DataFrame\n",
    "df.shape"
   ]
  },
  {
   "cell_type": "code",
   "execution_count": 27,
   "id": "0d317f06",
   "metadata": {},
   "outputs": [
    {
     "data": {
      "text/plain": [
       "itemLocation    0\n",
       "price           0\n",
       "title           0\n",
       "url             0\n",
       "whyToBuy/0      0\n",
       "dtype: int64"
      ]
     },
     "execution_count": 27,
     "metadata": {},
     "output_type": "execute_result"
    }
   ],
   "source": [
    "# drop missing rows in itemLocation column\n",
    "df.dropna(subset=['itemLocation'], inplace=True)\n",
    "\n",
    "# check\n",
    "df.isnull().sum()"
   ]
  },
  {
   "cell_type": "code",
   "execution_count": 28,
   "id": "12393d1d",
   "metadata": {},
   "outputs": [
    {
     "data": {
      "text/plain": [
       "(60447, 5)"
      ]
     },
     "execution_count": 28,
     "metadata": {},
     "output_type": "execute_result"
    }
   ],
   "source": [
    "# New shape of the DataFrame\n",
    "df.shape"
   ]
  },
  {
   "attachments": {},
   "cell_type": "markdown",
   "id": "da1e4efa",
   "metadata": {},
   "source": [
    "We have dealt with all the missing values in our data. However, in doing so, we reduced our observations from 104,787 to 60,447 and features from 32 to 5."
   ]
  },
  {
   "attachments": {},
   "cell_type": "markdown",
   "id": "a8802107",
   "metadata": {},
   "source": [
    "---\n",
    "># Data Preprocessing"
   ]
  },
  {
   "cell_type": "markdown",
   "id": "387b45c1",
   "metadata": {},
   "source": [
    "### Feature Extraction from `itemLocation` Column"
   ]
  },
  {
   "cell_type": "markdown",
   "id": "ae5ed6e1",
   "metadata": {},
   "source": [
    "We can extract country, state and city from the itemLocation column."
   ]
  },
  {
   "cell_type": "code",
   "execution_count": 29,
   "id": "1b98ce0a",
   "metadata": {},
   "outputs": [
    {
     "data": {
      "text/plain": [
       "Index(['price', 'title', 'url', 'whyToBuy/0', 'item_country', 'item_state',\n",
       "       'item_city'],\n",
       "      dtype='object')"
      ]
     },
     "execution_count": 29,
     "metadata": {},
     "output_type": "execute_result"
    }
   ],
   "source": [
    "# Extract the country name from the itemLocation column\n",
    "df['item_country'] = df['itemLocation'].str.split(',').str[-1]\n",
    "\n",
    "# Extracy the state name from the itemLocation column\n",
    "df['item_state'] = df['itemLocation'].str.split(',').str[-2]\n",
    "\n",
    "# Extract the city name from the itemLocation column\n",
    "df['item_city'] = df['itemLocation'].str.split(',').str[0]\n",
    "\n",
    "# Drop the itemLocation column\n",
    "df.drop(['itemLocation'], axis=1, inplace=True)\n",
    "\n",
    "# check\n",
    "df.columns"
   ]
  },
  {
   "cell_type": "code",
   "execution_count": 30,
   "id": "23429d3a",
   "metadata": {},
   "outputs": [
    {
     "data": {
      "text/html": [
       "<div>\n",
       "<style scoped>\n",
       "    .dataframe tbody tr th:only-of-type {\n",
       "        vertical-align: middle;\n",
       "    }\n",
       "\n",
       "    .dataframe tbody tr th {\n",
       "        vertical-align: top;\n",
       "    }\n",
       "\n",
       "    .dataframe thead th {\n",
       "        text-align: right;\n",
       "    }\n",
       "</style>\n",
       "<table border=\"1\" class=\"dataframe\">\n",
       "  <thead>\n",
       "    <tr style=\"text-align: right;\">\n",
       "      <th></th>\n",
       "      <th>price</th>\n",
       "      <th>title</th>\n",
       "      <th>url</th>\n",
       "      <th>whyToBuy/0</th>\n",
       "      <th>item_country</th>\n",
       "      <th>item_state</th>\n",
       "      <th>item_city</th>\n",
       "    </tr>\n",
       "  </thead>\n",
       "  <tbody>\n",
       "    <tr>\n",
       "      <th>0</th>\n",
       "      <td>12630069.0</td>\n",
       "      <td>1986 86 Fleer Michael Jordan Rookie Sticker PS...</td>\n",
       "      <td>https://www.ebay.com/itm/324272400062</td>\n",
       "      <td>Ships from United States</td>\n",
       "      <td>United States</td>\n",
       "      <td>Michigan</td>\n",
       "      <td>Dearborn</td>\n",
       "    </tr>\n",
       "    <tr>\n",
       "      <th>1</th>\n",
       "      <td>7000000.0</td>\n",
       "      <td>SUPER RARE ( ELITE STATUS ) 2000 TOM BRADY ROO...</td>\n",
       "      <td>https://www.ebay.com/itm/195083288951</td>\n",
       "      <td>Ships from United States</td>\n",
       "      <td>United States</td>\n",
       "      <td>Michigan</td>\n",
       "      <td>Livonia</td>\n",
       "    </tr>\n",
       "    <tr>\n",
       "      <th>2</th>\n",
       "      <td>5000000.0</td>\n",
       "      <td>2003 LEBRON JAMES RC UD ROOKIE EXCLUSIVES AUTO...</td>\n",
       "      <td>https://www.ebay.com/itm/285024859926</td>\n",
       "      <td>Ships from United States</td>\n",
       "      <td>United States</td>\n",
       "      <td>Texas</td>\n",
       "      <td>San Antonio</td>\n",
       "    </tr>\n",
       "    <tr>\n",
       "      <th>3</th>\n",
       "      <td>4500000.0</td>\n",
       "      <td>2003 TOM BRADY LEAF LIMITED # 12/12 GAME-WORN-...</td>\n",
       "      <td>https://www.ebay.com/itm/195509543378</td>\n",
       "      <td>Ships from United States</td>\n",
       "      <td>United States</td>\n",
       "      <td>Michigan</td>\n",
       "      <td>Livonia</td>\n",
       "    </tr>\n",
       "    <tr>\n",
       "      <th>4</th>\n",
       "      <td>3900000.0</td>\n",
       "      <td>RARE 2007 Tom Brady Autograph Plaque 16-0 #Und...</td>\n",
       "      <td>https://www.ebay.com/itm/204074772841</td>\n",
       "      <td>Ships from United States</td>\n",
       "      <td>United States</td>\n",
       "      <td>Indiana</td>\n",
       "      <td>Indianapolis</td>\n",
       "    </tr>\n",
       "  </tbody>\n",
       "</table>\n",
       "</div>"
      ],
      "text/plain": [
       "        price                                              title  \\\n",
       "0  12630069.0  1986 86 Fleer Michael Jordan Rookie Sticker PS...   \n",
       "1   7000000.0  SUPER RARE ( ELITE STATUS ) 2000 TOM BRADY ROO...   \n",
       "2   5000000.0  2003 LEBRON JAMES RC UD ROOKIE EXCLUSIVES AUTO...   \n",
       "3   4500000.0  2003 TOM BRADY LEAF LIMITED # 12/12 GAME-WORN-...   \n",
       "4   3900000.0  RARE 2007 Tom Brady Autograph Plaque 16-0 #Und...   \n",
       "\n",
       "                                     url                whyToBuy/0  \\\n",
       "0  https://www.ebay.com/itm/324272400062  Ships from United States   \n",
       "1  https://www.ebay.com/itm/195083288951  Ships from United States   \n",
       "2  https://www.ebay.com/itm/285024859926  Ships from United States   \n",
       "3  https://www.ebay.com/itm/195509543378  Ships from United States   \n",
       "4  https://www.ebay.com/itm/204074772841  Ships from United States   \n",
       "\n",
       "     item_country item_state     item_city  \n",
       "0   United States   Michigan      Dearborn  \n",
       "1   United States   Michigan       Livonia  \n",
       "2   United States      Texas   San Antonio  \n",
       "3   United States   Michigan       Livonia  \n",
       "4   United States    Indiana  Indianapolis  "
      ]
     },
     "execution_count": 30,
     "metadata": {},
     "output_type": "execute_result"
    }
   ],
   "source": [
    "# Check\n",
    "df.head()"
   ]
  },
  {
   "attachments": {},
   "cell_type": "markdown",
   "id": "19ed1dcb",
   "metadata": {},
   "source": [
    "### Feature Extraction from `title` Column"
   ]
  },
  {
   "cell_type": "code",
   "execution_count": 31,
   "id": "98411441",
   "metadata": {},
   "outputs": [
    {
     "data": {
      "text/plain": [
       "array(['1986 86 Fleer Michael Jordan Rookie Sticker PSA 8(ST) # 06300690 CAREER HIGH PTS',\n",
       "       'SUPER RARE ( ELITE STATUS ) 2000 TOM BRADY ROOKIE DONURSS S/N 05/10 PSA 10 POP 1',\n",
       "       '2003 LEBRON JAMES RC UD ROOKIE EXCLUSIVES AUTO GEM MINT Rare Highest Graded',\n",
       "       ..., '1955 BOWMAN MICKEY MANTLE #202 PSA 1',\n",
       "       '2019-20 Panini Mosaic Lebron James Silver Mosaic Prizm PSA Gem Mint 10 #8 Lakers',\n",
       "       '2015-16 PANINI PRIZM DEVIN BOOKER PSA 10 ROOKIE RC #308 PHOENIX SUNS'],\n",
       "      dtype=object)"
      ]
     },
     "execution_count": 31,
     "metadata": {},
     "output_type": "execute_result"
    }
   ],
   "source": [
    "# check unique values in title column\n",
    "df['title'].unique()"
   ]
  },
  {
   "attachments": {},
   "cell_type": "markdown",
   "id": "0b61be0e",
   "metadata": {},
   "source": [
    "##### Extracting card year"
   ]
  },
  {
   "attachments": {},
   "cell_type": "markdown",
   "id": "f6fe4251",
   "metadata": {},
   "source": [
    "Year is a 4 digit number that starts from 19 or 20. We can ectract such numbers and save it to a new column."
   ]
  },
  {
   "cell_type": "code",
   "execution_count": 58,
   "id": "01aa4416",
   "metadata": {},
   "outputs": [],
   "source": [
    "# Grab year from title column that start with '20' and '19' and has 4 digits\n",
    "df['card_year'] = df['title'].str.extract(r'((?:19|20)\\d\\d)')"
   ]
  },
  {
   "cell_type": "code",
   "execution_count": 139,
   "id": "65eb84a0",
   "metadata": {},
   "outputs": [],
   "source": [
    "# Grab year from title column\n",
    "df['card_year'] = df['title'].str.extract('(\\d{4})', expand=True)"
   ]
  },
  {
   "cell_type": "code",
   "execution_count": 59,
   "id": "a84ad2a0",
   "metadata": {},
   "outputs": [
    {
     "data": {
      "text/plain": [
       "0    1986\n",
       "1    2000\n",
       "2    2003\n",
       "3    2003\n",
       "4    2007\n",
       "5    1947\n",
       "6    2015\n",
       "7    2003\n",
       "8    2000\n",
       "9    2003\n",
       "Name: card_year, dtype: object"
      ]
     },
     "execution_count": 59,
     "metadata": {},
     "output_type": "execute_result"
    }
   ],
   "source": [
    "# Inspect the first 10 values of the card_year column\n",
    "df.card_year.head(10)"
   ]
  },
  {
   "cell_type": "code",
   "execution_count": 60,
   "id": "e0838643",
   "metadata": {},
   "outputs": [
    {
     "data": {
      "text/plain": [
       "2455"
      ]
     },
     "execution_count": 60,
     "metadata": {},
     "output_type": "execute_result"
    }
   ],
   "source": [
    "# Check for missing years in new feature\n",
    "df.card_year.isnull().sum()"
   ]
  },
  {
   "cell_type": "markdown",
   "id": "d79cb7ef",
   "metadata": {},
   "source": [
    "There are some missing values in the new column. Let’s inspect them closely."
   ]
  },
  {
   "cell_type": "code",
   "execution_count": 61,
   "id": "f276742e",
   "metadata": {},
   "outputs": [
    {
     "data": {
      "text/html": [
       "<div>\n",
       "<style scoped>\n",
       "    .dataframe tbody tr th:only-of-type {\n",
       "        vertical-align: middle;\n",
       "    }\n",
       "\n",
       "    .dataframe tbody tr th {\n",
       "        vertical-align: top;\n",
       "    }\n",
       "\n",
       "    .dataframe thead th {\n",
       "        text-align: right;\n",
       "    }\n",
       "</style>\n",
       "<table border=\"1\" class=\"dataframe\">\n",
       "  <thead>\n",
       "    <tr style=\"text-align: right;\">\n",
       "      <th></th>\n",
       "      <th>card_year</th>\n",
       "      <th>url</th>\n",
       "      <th>title</th>\n",
       "    </tr>\n",
       "  </thead>\n",
       "  <tbody>\n",
       "    <tr>\n",
       "      <th>45</th>\n",
       "      <td>NaN</td>\n",
       "      <td>https://www.ebay.com/itm/324165986164</td>\n",
       "      <td>PSA TRUE 1/1! DUAL AUTO CRAZY RAY &amp; CHIEF ZEE ...</td>\n",
       "    </tr>\n",
       "    <tr>\n",
       "      <th>55</th>\n",
       "      <td>NaN</td>\n",
       "      <td>https://www.ebay.com/itm/225148828552</td>\n",
       "      <td>09-10 Playoff Contenders Championship &amp; Gold T...</td>\n",
       "    </tr>\n",
       "    <tr>\n",
       "      <th>63</th>\n",
       "      <td>NaN</td>\n",
       "      <td>https://www.ebay.com/itm/334009075378</td>\n",
       "      <td>Khabib Nurmagomedov Auto /25 Panini UFC Champi...</td>\n",
       "    </tr>\n",
       "    <tr>\n",
       "      <th>82</th>\n",
       "      <td>NaN</td>\n",
       "      <td>https://www.ebay.com/itm/144254733247</td>\n",
       "      <td>1/1 MICHAEL JORDAN Complete 22KT GOLD SET BGS 9</td>\n",
       "    </tr>\n",
       "    <tr>\n",
       "      <th>98</th>\n",
       "      <td>NaN</td>\n",
       "      <td>https://www.ebay.com/itm/275524977554</td>\n",
       "      <td>BGS 10 PRISTINE BLACK LABEL SP AUTHENTIC NATHA...</td>\n",
       "    </tr>\n",
       "  </tbody>\n",
       "</table>\n",
       "</div>"
      ],
      "text/plain": [
       "   card_year                                    url  \\\n",
       "45       NaN  https://www.ebay.com/itm/324165986164   \n",
       "55       NaN  https://www.ebay.com/itm/225148828552   \n",
       "63       NaN  https://www.ebay.com/itm/334009075378   \n",
       "82       NaN  https://www.ebay.com/itm/144254733247   \n",
       "98       NaN  https://www.ebay.com/itm/275524977554   \n",
       "\n",
       "                                                title  \n",
       "45  PSA TRUE 1/1! DUAL AUTO CRAZY RAY & CHIEF ZEE ...  \n",
       "55  09-10 Playoff Contenders Championship & Gold T...  \n",
       "63  Khabib Nurmagomedov Auto /25 Panini UFC Champi...  \n",
       "82    1/1 MICHAEL JORDAN Complete 22KT GOLD SET BGS 9  \n",
       "98  BGS 10 PRISTINE BLACK LABEL SP AUTHENTIC NATHA...  "
      ]
     },
     "execution_count": 61,
     "metadata": {},
     "output_type": "execute_result"
    }
   ],
   "source": [
    "# Inspect Nan values from card_year column\n",
    "df[df['card_year'].isnull()][['card_year','url','title']].head(5)"
   ]
  },
  {
   "attachments": {},
   "cell_type": "markdown",
   "id": "4f9dd7f7",
   "metadata": {},
   "source": [
    "Seems like most year values that are missing from the title column are card sets, not individual cards. Since we are only exploring individual cards in the analysis, We can drop these rows."
   ]
  },
  {
   "cell_type": "code",
   "execution_count": 62,
   "id": "1f361acd",
   "metadata": {},
   "outputs": [],
   "source": [
    "# drop rows with Nan values in card_year column\n",
    "df.dropna(subset=['card_year'], inplace=True)\n"
   ]
  },
  {
   "cell_type": "code",
   "execution_count": 63,
   "id": "7153e7cd",
   "metadata": {},
   "outputs": [
    {
     "data": {
      "text/plain": [
       "0"
      ]
     },
     "execution_count": 63,
     "metadata": {},
     "output_type": "execute_result"
    }
   ],
   "source": [
    "# Re check\n",
    "df.card_year.isnull().sum()"
   ]
  },
  {
   "cell_type": "code",
   "execution_count": 64,
   "id": "3ca7e46a",
   "metadata": {},
   "outputs": [
    {
     "data": {
      "text/plain": [
       "array(['1986', '2000', '2003', '2007', '1947', '2015', '2018', '2020',\n",
       "       '2009', '1985', '1997', '2019', '2004', '1984', '1993', '2016',\n",
       "       '1996', '2002', '1968', '1998', '1921', '2005', '2006', '2014',\n",
       "       '2013', '2011', '2001', '1992', '1911', '1952', '1999', '2017',\n",
       "       '2012', '1995', '2021', '1932', '1916', '1990', '2008', '1910',\n",
       "       '1902', '1933', '1937', '1914', '2010', '1909', '1948', '1979',\n",
       "       '1936', '1989', '1969', '1934', '1959', '1954', '1951', '1980',\n",
       "       '1970', '1965', '1987', '1925', '2022', '1981', '1956', '1963',\n",
       "       '1973', '1976', '1975', '1966', '1957', '1958', '1955', '1991',\n",
       "       '1912', '1962', '1961', '1945', '1923', '1913', '1924', '1988',\n",
       "       '1994', '1971', '1960', '1949', '1939', '1922', '1953', '1915',\n",
       "       '1917', '1926', '1974', '1935', '1964', '1950', '1967', '1983',\n",
       "       '1977', '1982', '1938', '1907', '1978', '1928', '1940', '1946',\n",
       "       '1972', '1927', '1920', '1931', '1929', '1903', '1919', '1918',\n",
       "       '1941', '2098', '1942', '1930', '1901', '2028', '1908', '1906',\n",
       "       '1900', '2068', '1943', '2097'], dtype=object)"
      ]
     },
     "execution_count": 64,
     "metadata": {},
     "output_type": "execute_result"
    }
   ],
   "source": [
    "# Inspect unique values in card_year column\n",
    "df.card_year.unique()"
   ]
  },
  {
   "attachments": {},
   "cell_type": "markdown",
   "id": "bacd1a0c",
   "metadata": {},
   "source": [
    "#### Extracting brand name "
   ]
  },
  {
   "cell_type": "code",
   "execution_count": 65,
   "id": "99078d78",
   "metadata": {},
   "outputs": [],
   "source": [
    "# show entire value in title column\n",
    "pd.set_option('display.max_colwidth', None)"
   ]
  },
  {
   "cell_type": "code",
   "execution_count": 66,
   "id": "2fafa2cc",
   "metadata": {},
   "outputs": [
    {
     "data": {
      "text/plain": [
       "0     1986 86 Fleer Michael Jordan Rookie Sticker PSA 8(ST) # 06300690 CAREER HIGH PTS\n",
       "1     SUPER RARE ( ELITE STATUS ) 2000 TOM BRADY ROOKIE DONURSS S/N 05/10 PSA 10 POP 1\n",
       "2          2003 LEBRON JAMES RC UD ROOKIE EXCLUSIVES AUTO GEM MINT Rare Highest Graded\n",
       "3     2003 TOM BRADY LEAF LIMITED # 12/12 GAME-WORN-2002-PRO-BOWL-JERSEY-AUTO-BGS 9/10\n",
       "4     RARE 2007 Tom Brady Autograph Plaque 16-0 #Undefeated #GreatnessCode #RookieCard\n",
       "5        1947 Jackie Robinson Rookie RC Brooklyn Dodgers 1st MLB Appearance PSA 9 Mint\n",
       "6       2015-16 Exquisite Connor McDavid 1/1 RPA NHL Shield Logo Patch BGS 9.5 10 AUTO\n",
       "7      Lebron James 2003 SP Signature Edition RC Inscription 'The KING' Auto /25 BGS10\n",
       "8     RARE ( PLAYERS HONORS )(#/10) 2000 TOM BRADY ROOKIE ABSOLUTE PLAYOFF PSA 9 POP 1\n",
       "9     2003-04 UD Rookie Exclusives AUTOGRAPH Michael Jordan A60 BGS PRISTINE 10 POP 1!\n",
       "10         2018-19 PANINI CONTENDERS LUKA DONCIC PREMIUM GOLD RC AUTO BGS 9.5/10 POP 1\n",
       "11    2020 Topps Chrome F1 Lewis Hamilton Silver Refractor Auto #F1A-LH (44/58) PSA 10\n",
       "12                  2009 National Treasures Stephen Curry RC Jersey Auto /99 RPA BGS 9\n",
       "13        2018 BGS 10 PRIZM SELECT COURTSIDE LUKA DONCIC ZEBRA ROOKIE CARD - BGS POP 1\n",
       "14       2018-19 Panini Select Luka Doncic Mavs RC Rookie Tie-Dye AUTO BGS 10/10 POP 1\n",
       "15    2018 BGS 10 #2/5 SELECT PRIZM COURTSIDE 1/1 LUKA DONCIC RC EXTREMELY RARE! POP 1\n",
       "16           MICHAEL JORDAN XRC RC ROOKIE 1985-86 STAR #2 B4 FLEER BGS 10 PRISTINE 1/1\n",
       "17     2003 Ultimate LeBron James ROOKIE AUTO /250 #127 BGS  PRISTINE 10! Holy Grail!!\n",
       "18                1997 Browns Boxing #51 Floyd Mayweather Jr Rookie RC BGS 10 PRISTINE\n",
       "19     2019-20 National Treasures Basketball Zion Williamson FOTL RPA 30/30 BGS 9.0/10\n",
       "20     Lebron James Pop 1 PSA 10 Upper Deck 2004 Autograph/Jersey Rarer than Exquisite\n",
       "21                                 2009 Panini #357 Stephen Curry PSA MINT 9 RC Rookie\n",
       "22    BGS 10 PRISTINE 1997-98 PRECIOUS METALS PLATINUM WAYNE GRETZKY BLACK LABEL POP 1\n",
       "23    1984 OLYMPICS USA Michael JORDAN GOLD MEDAL TICKET PSA 10! b4 1986 fleer rc! 1/1\n",
       "24       1993 SP Foil #279 Derek Jeter RC Rookie HOF BGS 9.5 POP 1 ONLY HIGHEST GRADED\n",
       "25                  2019-20 Panini Select ZION WILLIAMSON 4/5 CONCOURSE RC FOTL BGS 10\n",
       "26    2016-17 Panini Donruss Optic Lebron James & Kobe 1st Year Optic BGS 9.5 GEM MINT\n",
       "27           2009 Matthew Stafford Topps Unique RPA Game Used Shield 1/1 BGS 9/10 Auto\n",
       "28           2019-20 Panini Prizm Lebron James Silver Prizm Fireworks PSA 10 #2 Lakers\n",
       "29    BGS 9 10 2018 LEAF METAL DRAFT LaMelo Ball AUTO SUPERFRACTOR GOLD VINYL 1/1 X-RC\n",
       "30    2003-04 SP Signature Edition Rookie INKorporated LeBron James 77/100 BGS 10 Auto\n",
       "31      2020 Panini Donruss Optic 13 LeBron James Nebula Choice 1/1  GOAT 👑🐐Holy Grail\n",
       "32       2004-05 UPPER DECK SP GAME USED MICHAEL JORDAN LOGOMAN 1/1 BGS 9!! HOLY GRAIL\n",
       "33      2016 Bowmans best atomic refractor auto /25 best of 16 Aaron Judge BGS 9.5 /10\n",
       "34       1996 Pinnacle Zenith Highlights Dale Earnhardt Seven Wonders Gold Racing Card\n",
       "35    LeBron James 2002-03 Upper Deck Inspirations #156 Holofoil XRC RC Rookie BGS 8.5\n",
       "36    2015 SAM DARNOLD 1/1 ARMY XRC RC AUTO GOLD PSA ROOKIE PATCH AUTOGRAPH COLLECTION\n",
       "37    1968 Topps #177 Nolan Ryan (Mets Rookie Stars) SGC 98 GEM MINT 10  HOBBY'S BEST!\n",
       "38    TOM BRADY 2000 Contenders RC AUTO BGS GEM MINT 9.5 / 10 PRISTINE Auto ~ POP 15 ~\n",
       "39     1998-99 Flair Showcase Tim Duncan The Only 1 of 1 Masterpiece Legacy Collection\n",
       "40     Shohei Ohtani 2018 Topps Transcendent Japan Rookie Auto RC (1st HR) 1/1 BGS 9.5\n",
       "41                             Babe Ruth Card 1921 - Highest Graded Card in the World!\n",
       "42     1986 Panini Supersport Mike Tyson Boxing Rookie RC #153 ITALIAN VERSION PSA 10!\n",
       "43        2000 Playoff Contenders Tom Brady Championship Ticket Rookie BGS 7.5 10 AUTO\n",
       "44      2005-06 SIDNEY CROSBY HOT PROSPECTS RPA ROOKIE PATCH AUTO /199 BGS 9.5 POP 1/1\n",
       "46      2019 Panini Obsidian Zion Williamson Color Patch Auto/15 GREEN RC PSA 10 POP 1\n",
       "47          ~BREATHTAKING BGS 10 PRISTINE POP 5 2009 ROOKIE TOPPS CHROME STEPHEN CURRY\n",
       "48      🔥  11/14/1997 Bulls Signed 🔥 MICHAEL JORDAN Ticket Stub vs. Hornets AUTO 1/1 !\n",
       "49     PSA 10 Shaquille O'Neal Gem mint 1997 Collector Choice Starquest Low population\n",
       "50                               1997 Topps GOLD Michael Jordan Error PSA 1/1 Not a 10\n",
       "51      1984 signed Olympics Ticket Card Michael Jordan Rookie Autograph Rare 1/1 Auto\n",
       "52                       2000 Tom Brady Rookie card Collection (now 40 cards in total)\n",
       "53    2000 Tom Brady HoloGold (S/N 06/20) PSA 10 Rookie Collector's Edge Supreme POP 2\n",
       "54                                                    1985 WWF Hulk Hogan card BGS 9.5\n",
       "56        2018 Leaf Metal Trevor Lawrence RC #1/1 Flag Wave Etch Super Prismatic #1 DP\n",
       "57     1997-98 UD Game Jerseys Michael Jordan BGS 9.5 w/ 10 AUTO UDA POP 1 NONE HIGHER\n",
       "58                               2020 National Treasures Justin Herbert FOTL PSA 10/10\n",
       "Name: title, dtype: object"
      ]
     },
     "execution_count": 66,
     "metadata": {},
     "output_type": "execute_result"
    }
   ],
   "source": [
    "# Inspect the column to identify patterns\n",
    "df.title.head(57)"
   ]
  },
  {
   "cell_type": "markdown",
   "id": "c2a8e0d9",
   "metadata": {},
   "source": [
    "In order to extract the brand, we need to check the column values against a list of brand names. We can manually create a list of brands by exploring the brand filter option on eBay, where we can filter the listing by brand name.\n",
    "The following are brand names obtained in such a way, saved to a string we can convert to a list. \n"
   ]
  },
  {
   "cell_type": "code",
   "execution_count": 67,
   "id": "970df38e",
   "metadata": {},
   "outputs": [],
   "source": [
    "# save most popular brands as a string \n",
    "string = \"5FINITY,7th Inning Sketch,AAA Sports Memorabilia,Ace Authentic,Action Packed,AEG,Allens,American Caramel,APBA,ArtBox,Atlantic,AW Sports, Inc.,BandaiBaseball Magazine,Bazooka, Be A Player, Bench Warmer, Bleachers, Bowman, Bushiroad, Calbee, Callahan HALL OF FAME, CARDZ Distribution, Champion Cards, Choice Marketing, Inc, Chris Martin Enterprises, Inc., Classic Games, Inc, Classic Marketing, Inc., CMC, Coles, Collector's Edge, College Classics, Inc., Collegiate Collection, Comic Images, Courtside, Cracker Jack, Cryptozoic, Dan Dee, Diamond Kings, Diamond Stars, Disney, Donruss, Donruss, Playoff, Double Play, Eclipse Cards, Enor, Exhibits, Fantasy Flight Games, Félix Potin, Fleer, Fleer/SkyBox International, Futera, Goal Line, Goal Line Art, Goudey, Grandstand, Hasbro, Hi-Pro Marketing, Inc., Homogenized Bond, Impel, Imperial Tobacco Canada, In the Game, JOGO, Inc., Just Memorabilia, Just Minors, Kahn's, Kellogg's, Kenner, Konami, Leaf, Marvel, Merlin, Milk Duds, Mobil, Monty Gum, MSA, National Chicle, Navarrete, NBA Properties, NetPro, NFL Players Association, NFL Properties, Nintendo, NSI Marketing Limited, Nu-Cards, Onyx Authenticated, O-Pee-Chee, Pacific, Panini, Parkhurst, Parkside, Philadelphia Gum, Pinnacle, Playoff, Post, Press Pass, ProCards, Pro Set, R.E.L., Razor, Red Man, Regina, Ringside, Rittenhouse, Roox Limited Corp., SAGE, Scanlens, SCORE, Select, Sereal, Shirriff Coins, Signature Rookies, SkyBox, Sp Authentic, Sportflics, Sport Kings, Sportscaster, Sports Illustrated, SPX, Stadium Club, Star Pics, Superior Pix, Superior Rookies, TCMA, Team Issue, The Score Board, Inc, The Star Co., Topps, Topps Supreme, Tristar, Ty, Ultimate Guard, Ultimate Trading Card Co., Ultra PRO, Upper Deck, Vachon, Wheaties, Wheels, Wild Card, Wills, Wizards of the Coast, WOW, Unbranded,Not Specified,5FINITY,7TH INNING SKETCH,AAA SPORTS MEMORABILIA,ACE AUTHENTIC,ACTION PACKED,AEG,ALLENS,AMERICAN CARAMEL,APBA,ARTBOX,ATLANTIC,AW SPORTS, INC.,BANDAIBASEBALL MAGAZINE,BAZOOKA, BE A PLAYER, BENCH WARMER, BLEACHERS, BOWMAN, BUSHIROAD, CALBEE, CALLAHAN HALL OF FAME, CARDZ DISTRIBUTION, CHAMPION CARDS, CHOICE MARKETING, INC, CHRIS MARTIN ENTERPRISES, INC., CLASSIC GAMES, INC, CLASSIC MARKETING, INC., CMC, COLES, COLLECTOR'S EDGE, COLLEGE CLASSICS, INC., COLLEGIATE COLLECTION, COMIC IMAGES, COURTSIDE, CRACKER JACK, CRYPTOZOIC, DAN DEE, DIAMOND KINGS, DIAMOND STARS, DISNEY, DONRUSS, DONRUSS, PLAYOFF, DOUBLE PLAY, ECLIPSE CARDS, ENOR, EXHIBITS, FANTASY FLIGHT GAMES, FÉLIX POTIN, FLEER, FLEER/SKYBOX INTERNATIONAL, FUTERA, GOAL LINE, GOAL LINE ART, GOUDEY, GRANDSTAND, HASBRO, HI-PRO MARKETING, INC., HOMOGENIZED BOND, IMPEL, IMPERIAL TOBACCO CANADA, IN THE GAME, JOGO, INC., JUST MEMORABILIA, JUST MINORS, KAHN'S, KELLOGG'S, KENNER, KONAMI, LEAF, MARVEL, MERLIN, MILK DUDS, MOBIL, MONTY GUM, MSA, NATIONAL CHICLE, NAVARRETE, NBA PROPERTIES, NETPRO, NFL PLAYERS ASSOCIATION, NFL PROPERTIES, NINTENDO, NSI MARKETING LIMITED, NU-CARDS, ONYX AUTHENTICATED, O-PEE-CHEE, PACIFIC, PANINI, PARKHURST, PARKSIDE, PHILADELPHIA GUM, PINNACLE, PLAYOFF, POST, PRESS PASS, PROCARDS, PRO SET, R.E.L., RAZOR, RED MAN, REGINA, RINGSIDE, RITTENHOUSE, ROOX LIMITED CORP., SAGE, SCANLENS, SCORE, SELECT, SEREAL, SHIRRIFF COINS, SIGNATURE ROOKIES, SKYBOX, SP AUTHENTIC, SPORTFLICS, SPORT KINGS, SPORTSCASTER, SPORTS ILLUSTRATED, SPX, STADIUM CLUB, STAR PICS, SUPERIOR PIX, SUPERIOR ROOKIES, TCMA, TEAM ISSUE, THE SCORE BOARD, INC, THE STAR CO., TOPPS, TOPPS SUPREME, TRISTAR, TY, ULTIMATE GUARD, ULTIMATE TRADING CARD CO., ULTRA PRO, UPPER DECK, VACHON, WHEATIES, WHEELS, WILD CARD, WILLS, WIZARDS OF THE COAST, WOW, UNBRANDED,NOT SPECIFIED,5finity,7th inning sketch,aaa sports memorabilia,ace authentic,action packed,aeg,allens,american caramel,apba,artbox,atlantic,aw sports, inc.,bandaibaseball magazine,bazooka, be a player, bench warmer, bleachers, bowman, bushiroad, calbee, callahan hall of fame, cardz distribution, champion cards, choice marketing, inc, chris martin enterprises, inc., classic games, inc, classic marketing, inc., cmc, coles, collector's edge, college classics, inc., collegiate collection, comic images, courtside, cracker jack, cryptozoic, dan dee, diamond kings, diamond stars, disney, donruss, donruss, playoff, double play, eclipse cards, enor, exhibits, fantasy flight games, félix potin, fleer, fleer/skybox international, futera, goal line, goal line art, goudey, grandstand, hasbro, hi-pro marketing, inc., homogenized bond, impel, imperial tobacco canada, in the game, jogo, inc., just memorabilia, just minors, kahn's, kellogg's, kenner, konami, leaf, marvel, merlin, milk duds, mobil, monty gum, msa, national chicle, navarrete, nba properties, netpro, nfl players association, nfl properties, nintendo, nsi marketing limited, nu-cards, onyx authenticated, o-pee-chee, pacific, panini, parkhurst, parkside, philadelphia gum, pinnacle, playoff, post, press pass, procards, pro set, r.e.l., razor, red man, regina, ringside, rittenhouse, roox limited corp., sage, scanlens, score, select, sereal, shirriff coins, signature rookies, skybox, sp authentic, sportflics, sport kings, sportscaster, sports illustrated, spx, stadium club, star pics, superior pix, superior rookies, tcma, team issue, the score board, inc, the star co., topps, topps supreme, tristar, ty, ultimate guard, ultimate trading card co., ultra pro, upper deck, vachon, wheaties, wheels, wild card, wills, wizards of the coast, wow, unbranded,not specified,5FINITY,7th Inning Sketch,AAA Sports Memorabilia,Ace Authentic,Action Packed,AEG,Allens,American Caramel,APBA,Artbox,Atlantic,AW Sports, Inc.,Bandaibaseball Magazine,Bazooka, Be A Player, Bench Warmer, Bleachers, Bowman, Bushiroad, Calbee, Callahan HALL OF FAME, CARDZ Distribution, Champion Cards, Choice Marketing, Inc, Chris Martin Enterprises, Inc., Classic Games, Inc, Classic Marketing, Inc., CMC, Coles, Collector's Edge, College Classics, Inc., Collegiate Collection, Comic Images, Courtside, Cracker Jack, Cryptozoic, Dan Dee, Diamond Kings, Diamond Stars, Disney, Donruss, Donruss, Playoff, Double Play, Eclipse Cards, Enor, Exhibits, Fantasy Flight Games, Félix Potin, Fleer, Fleer/Skybox International, Futera, Goal Line, Goal Line Art, Goudey, Grandstand, Hasbro, Hi-Pro Marketing, Inc., Homogenized Bond, Impel, Imperial Tobacco Canada, In The Game, JOGO, Inc., Just Memorabilia, Just Minors, Kahn's, Kellogg's, Kenner, Konami, Leaf, Marvel, Merlin, Milk Duds, Mobil, Monty Gum, MSA, National Chicle, Navarrete, NBA Properties, Netpro, NFL Players Association, NFL Properties, Nintendo, NSI Marketing Limited, Nu-Cards, Onyx Authenticated, O-Pee-Chee, Pacific, Panini, Parkhurst, Parkside, Philadelphia Gum, Pinnacle, Playoff, Post, Press Pass, Procards, Pro Set, R.E.L., Razor, Red Man, Regina, Ringside, Rittenhouse, Roox Limited Corp., SAGE, Scanlens, SCORE, Select, Sereal, Shirriff Coins, Signature Rookies, Skybox, Sp Authentic, Sportflics, Sport Kings, Sportscaster, Sports Illustrated, SPX, Stadium Club, Star Pics, Superior Pix, Superior Rookies, TCMA, Team Issue, The Score Board, Inc, The Star Co., Topps, Topps Supreme, Tristar, Ty, Ultimate Guard, Ultimate Trading Card Co., Ultra PRO, Upper Deck, Vachon, Wheaties, Wheels, Wild Card, Wills, Wizards Of The Coast, WOW, Unbranded,Not Specified\""
   ]
  },
  {
   "cell_type": "code",
   "execution_count": 68,
   "id": "d04cd852",
   "metadata": {},
   "outputs": [],
   "source": [
    "# Convert the brands string to a list\n",
    "brand_list=string.split(',')"
   ]
  },
  {
   "cell_type": "code",
   "execution_count": 69,
   "id": "245d0fee",
   "metadata": {},
   "outputs": [],
   "source": [
    "# strip forward whitespace \n",
    "brand_list=[x.strip() for x in brand_list]"
   ]
  },
  {
   "cell_type": "code",
   "execution_count": 70,
   "id": "f6adc6b8",
   "metadata": {},
   "outputs": [
    {
     "data": {
      "text/plain": [
       "612"
      ]
     },
     "execution_count": 70,
     "metadata": {},
     "output_type": "execute_result"
    }
   ],
   "source": [
    "\n",
    "len(brand_list)"
   ]
  },
  {
   "attachments": {},
   "cell_type": "markdown",
   "id": "7cbad1fd",
   "metadata": {},
   "source": [
    "There are 612 brand names we can look fro in title column."
   ]
  },
  {
   "cell_type": "code",
   "execution_count": 71,
   "id": "69f0133b",
   "metadata": {},
   "outputs": [
    {
     "data": {
      "text/plain": [
       "['5FINITY',\n",
       " '7th Inning Sketch',\n",
       " 'AAA Sports Memorabilia',\n",
       " 'Ace Authentic',\n",
       " 'Action Packed',\n",
       " 'AEG',\n",
       " 'Allens',\n",
       " 'American Caramel',\n",
       " 'APBA',\n",
       " 'ArtBox',\n",
       " 'Atlantic',\n",
       " 'AW Sports',\n",
       " 'Inc.',\n",
       " 'BandaiBaseball Magazine',\n",
       " 'Bazooka',\n",
       " 'Be A Player',\n",
       " 'Bench Warmer',\n",
       " 'Bleachers',\n",
       " 'Bowman',\n",
       " 'Bushiroad',\n",
       " 'Calbee',\n",
       " 'Callahan HALL OF FAME',\n",
       " 'CARDZ Distribution',\n",
       " 'Champion Cards',\n",
       " 'Choice Marketing',\n",
       " 'Inc',\n",
       " 'Chris Martin Enterprises',\n",
       " 'Inc.',\n",
       " 'Classic Games',\n",
       " 'Inc',\n",
       " 'Classic Marketing',\n",
       " 'Inc.',\n",
       " 'CMC',\n",
       " 'Coles',\n",
       " \"Collector's Edge\",\n",
       " 'College Classics',\n",
       " 'Inc.',\n",
       " 'Collegiate Collection',\n",
       " 'Comic Images',\n",
       " 'Courtside',\n",
       " 'Cracker Jack',\n",
       " 'Cryptozoic',\n",
       " 'Dan Dee',\n",
       " 'Diamond Kings',\n",
       " 'Diamond Stars',\n",
       " 'Disney',\n",
       " 'Donruss',\n",
       " 'Donruss',\n",
       " 'Playoff',\n",
       " 'Double Play',\n",
       " 'Eclipse Cards',\n",
       " 'Enor',\n",
       " 'Exhibits',\n",
       " 'Fantasy Flight Games',\n",
       " 'Félix Potin',\n",
       " 'Fleer',\n",
       " 'Fleer/SkyBox International',\n",
       " 'Futera',\n",
       " 'Goal Line',\n",
       " 'Goal Line Art',\n",
       " 'Goudey',\n",
       " 'Grandstand',\n",
       " 'Hasbro',\n",
       " 'Hi-Pro Marketing',\n",
       " 'Inc.',\n",
       " 'Homogenized Bond',\n",
       " 'Impel',\n",
       " 'Imperial Tobacco Canada',\n",
       " 'In the Game',\n",
       " 'JOGO',\n",
       " 'Inc.',\n",
       " 'Just Memorabilia',\n",
       " 'Just Minors',\n",
       " \"Kahn's\",\n",
       " \"Kellogg's\",\n",
       " 'Kenner',\n",
       " 'Konami',\n",
       " 'Leaf',\n",
       " 'Marvel',\n",
       " 'Merlin',\n",
       " 'Milk Duds',\n",
       " 'Mobil',\n",
       " 'Monty Gum',\n",
       " 'MSA',\n",
       " 'National Chicle',\n",
       " 'Navarrete',\n",
       " 'NBA Properties',\n",
       " 'NetPro',\n",
       " 'NFL Players Association',\n",
       " 'NFL Properties',\n",
       " 'Nintendo',\n",
       " 'NSI Marketing Limited',\n",
       " 'Nu-Cards',\n",
       " 'Onyx Authenticated',\n",
       " 'O-Pee-Chee',\n",
       " 'Pacific',\n",
       " 'Panini',\n",
       " 'Parkhurst',\n",
       " 'Parkside',\n",
       " 'Philadelphia Gum',\n",
       " 'Pinnacle',\n",
       " 'Playoff',\n",
       " 'Post',\n",
       " 'Press Pass',\n",
       " 'ProCards',\n",
       " 'Pro Set',\n",
       " 'R.E.L.',\n",
       " 'Razor',\n",
       " 'Red Man',\n",
       " 'Regina',\n",
       " 'Ringside',\n",
       " 'Rittenhouse',\n",
       " 'Roox Limited Corp.',\n",
       " 'SAGE',\n",
       " 'Scanlens',\n",
       " 'SCORE',\n",
       " 'Select',\n",
       " 'Sereal',\n",
       " 'Shirriff Coins',\n",
       " 'Signature Rookies',\n",
       " 'SkyBox',\n",
       " 'Sp Authentic',\n",
       " 'Sportflics',\n",
       " 'Sport Kings',\n",
       " 'Sportscaster',\n",
       " 'Sports Illustrated',\n",
       " 'SPX',\n",
       " 'Stadium Club',\n",
       " 'Star Pics',\n",
       " 'Superior Pix',\n",
       " 'Superior Rookies',\n",
       " 'TCMA',\n",
       " 'Team Issue',\n",
       " 'The Score Board',\n",
       " 'Inc',\n",
       " 'The Star Co.',\n",
       " 'Topps',\n",
       " 'Topps Supreme',\n",
       " 'Tristar',\n",
       " 'Ty',\n",
       " 'Ultimate Guard',\n",
       " 'Ultimate Trading Card Co.',\n",
       " 'Ultra PRO',\n",
       " 'Upper Deck',\n",
       " 'Vachon',\n",
       " 'Wheaties',\n",
       " 'Wheels',\n",
       " 'Wild Card',\n",
       " 'Wills',\n",
       " 'Wizards of the Coast',\n",
       " 'WOW',\n",
       " 'Unbranded',\n",
       " 'Not Specified',\n",
       " '5FINITY',\n",
       " '7TH INNING SKETCH',\n",
       " 'AAA SPORTS MEMORABILIA',\n",
       " 'ACE AUTHENTIC',\n",
       " 'ACTION PACKED',\n",
       " 'AEG',\n",
       " 'ALLENS',\n",
       " 'AMERICAN CARAMEL',\n",
       " 'APBA',\n",
       " 'ARTBOX',\n",
       " 'ATLANTIC',\n",
       " 'AW SPORTS',\n",
       " 'INC.',\n",
       " 'BANDAIBASEBALL MAGAZINE',\n",
       " 'BAZOOKA',\n",
       " 'BE A PLAYER',\n",
       " 'BENCH WARMER',\n",
       " 'BLEACHERS',\n",
       " 'BOWMAN',\n",
       " 'BUSHIROAD',\n",
       " 'CALBEE',\n",
       " 'CALLAHAN HALL OF FAME',\n",
       " 'CARDZ DISTRIBUTION',\n",
       " 'CHAMPION CARDS',\n",
       " 'CHOICE MARKETING',\n",
       " 'INC',\n",
       " 'CHRIS MARTIN ENTERPRISES',\n",
       " 'INC.',\n",
       " 'CLASSIC GAMES',\n",
       " 'INC',\n",
       " 'CLASSIC MARKETING',\n",
       " 'INC.',\n",
       " 'CMC',\n",
       " 'COLES',\n",
       " \"COLLECTOR'S EDGE\",\n",
       " 'COLLEGE CLASSICS',\n",
       " 'INC.',\n",
       " 'COLLEGIATE COLLECTION',\n",
       " 'COMIC IMAGES',\n",
       " 'COURTSIDE',\n",
       " 'CRACKER JACK',\n",
       " 'CRYPTOZOIC',\n",
       " 'DAN DEE',\n",
       " 'DIAMOND KINGS',\n",
       " 'DIAMOND STARS',\n",
       " 'DISNEY',\n",
       " 'DONRUSS',\n",
       " 'DONRUSS',\n",
       " 'PLAYOFF',\n",
       " 'DOUBLE PLAY',\n",
       " 'ECLIPSE CARDS',\n",
       " 'ENOR',\n",
       " 'EXHIBITS',\n",
       " 'FANTASY FLIGHT GAMES',\n",
       " 'FÉLIX POTIN',\n",
       " 'FLEER',\n",
       " 'FLEER/SKYBOX INTERNATIONAL',\n",
       " 'FUTERA',\n",
       " 'GOAL LINE',\n",
       " 'GOAL LINE ART',\n",
       " 'GOUDEY',\n",
       " 'GRANDSTAND',\n",
       " 'HASBRO',\n",
       " 'HI-PRO MARKETING',\n",
       " 'INC.',\n",
       " 'HOMOGENIZED BOND',\n",
       " 'IMPEL',\n",
       " 'IMPERIAL TOBACCO CANADA',\n",
       " 'IN THE GAME',\n",
       " 'JOGO',\n",
       " 'INC.',\n",
       " 'JUST MEMORABILIA',\n",
       " 'JUST MINORS',\n",
       " \"KAHN'S\",\n",
       " \"KELLOGG'S\",\n",
       " 'KENNER',\n",
       " 'KONAMI',\n",
       " 'LEAF',\n",
       " 'MARVEL',\n",
       " 'MERLIN',\n",
       " 'MILK DUDS',\n",
       " 'MOBIL',\n",
       " 'MONTY GUM',\n",
       " 'MSA',\n",
       " 'NATIONAL CHICLE',\n",
       " 'NAVARRETE',\n",
       " 'NBA PROPERTIES',\n",
       " 'NETPRO',\n",
       " 'NFL PLAYERS ASSOCIATION',\n",
       " 'NFL PROPERTIES',\n",
       " 'NINTENDO',\n",
       " 'NSI MARKETING LIMITED',\n",
       " 'NU-CARDS',\n",
       " 'ONYX AUTHENTICATED',\n",
       " 'O-PEE-CHEE',\n",
       " 'PACIFIC',\n",
       " 'PANINI',\n",
       " 'PARKHURST',\n",
       " 'PARKSIDE',\n",
       " 'PHILADELPHIA GUM',\n",
       " 'PINNACLE',\n",
       " 'PLAYOFF',\n",
       " 'POST',\n",
       " 'PRESS PASS',\n",
       " 'PROCARDS',\n",
       " 'PRO SET',\n",
       " 'R.E.L.',\n",
       " 'RAZOR',\n",
       " 'RED MAN',\n",
       " 'REGINA',\n",
       " 'RINGSIDE',\n",
       " 'RITTENHOUSE',\n",
       " 'ROOX LIMITED CORP.',\n",
       " 'SAGE',\n",
       " 'SCANLENS',\n",
       " 'SCORE',\n",
       " 'SELECT',\n",
       " 'SEREAL',\n",
       " 'SHIRRIFF COINS',\n",
       " 'SIGNATURE ROOKIES',\n",
       " 'SKYBOX',\n",
       " 'SP AUTHENTIC',\n",
       " 'SPORTFLICS',\n",
       " 'SPORT KINGS',\n",
       " 'SPORTSCASTER',\n",
       " 'SPORTS ILLUSTRATED',\n",
       " 'SPX',\n",
       " 'STADIUM CLUB',\n",
       " 'STAR PICS',\n",
       " 'SUPERIOR PIX',\n",
       " 'SUPERIOR ROOKIES',\n",
       " 'TCMA',\n",
       " 'TEAM ISSUE',\n",
       " 'THE SCORE BOARD',\n",
       " 'INC',\n",
       " 'THE STAR CO.',\n",
       " 'TOPPS',\n",
       " 'TOPPS SUPREME',\n",
       " 'TRISTAR',\n",
       " 'TY',\n",
       " 'ULTIMATE GUARD',\n",
       " 'ULTIMATE TRADING CARD CO.',\n",
       " 'ULTRA PRO',\n",
       " 'UPPER DECK',\n",
       " 'VACHON',\n",
       " 'WHEATIES',\n",
       " 'WHEELS',\n",
       " 'WILD CARD',\n",
       " 'WILLS',\n",
       " 'WIZARDS OF THE COAST',\n",
       " 'WOW',\n",
       " 'UNBRANDED',\n",
       " 'NOT SPECIFIED',\n",
       " '5finity',\n",
       " '7th inning sketch',\n",
       " 'aaa sports memorabilia',\n",
       " 'ace authentic',\n",
       " 'action packed',\n",
       " 'aeg',\n",
       " 'allens',\n",
       " 'american caramel',\n",
       " 'apba',\n",
       " 'artbox',\n",
       " 'atlantic',\n",
       " 'aw sports',\n",
       " 'inc.',\n",
       " 'bandaibaseball magazine',\n",
       " 'bazooka',\n",
       " 'be a player',\n",
       " 'bench warmer',\n",
       " 'bleachers',\n",
       " 'bowman',\n",
       " 'bushiroad',\n",
       " 'calbee',\n",
       " 'callahan hall of fame',\n",
       " 'cardz distribution',\n",
       " 'champion cards',\n",
       " 'choice marketing',\n",
       " 'inc',\n",
       " 'chris martin enterprises',\n",
       " 'inc.',\n",
       " 'classic games',\n",
       " 'inc',\n",
       " 'classic marketing',\n",
       " 'inc.',\n",
       " 'cmc',\n",
       " 'coles',\n",
       " \"collector's edge\",\n",
       " 'college classics',\n",
       " 'inc.',\n",
       " 'collegiate collection',\n",
       " 'comic images',\n",
       " 'courtside',\n",
       " 'cracker jack',\n",
       " 'cryptozoic',\n",
       " 'dan dee',\n",
       " 'diamond kings',\n",
       " 'diamond stars',\n",
       " 'disney',\n",
       " 'donruss',\n",
       " 'donruss',\n",
       " 'playoff',\n",
       " 'double play',\n",
       " 'eclipse cards',\n",
       " 'enor',\n",
       " 'exhibits',\n",
       " 'fantasy flight games',\n",
       " 'félix potin',\n",
       " 'fleer',\n",
       " 'fleer/skybox international',\n",
       " 'futera',\n",
       " 'goal line',\n",
       " 'goal line art',\n",
       " 'goudey',\n",
       " 'grandstand',\n",
       " 'hasbro',\n",
       " 'hi-pro marketing',\n",
       " 'inc.',\n",
       " 'homogenized bond',\n",
       " 'impel',\n",
       " 'imperial tobacco canada',\n",
       " 'in the game',\n",
       " 'jogo',\n",
       " 'inc.',\n",
       " 'just memorabilia',\n",
       " 'just minors',\n",
       " \"kahn's\",\n",
       " \"kellogg's\",\n",
       " 'kenner',\n",
       " 'konami',\n",
       " 'leaf',\n",
       " 'marvel',\n",
       " 'merlin',\n",
       " 'milk duds',\n",
       " 'mobil',\n",
       " 'monty gum',\n",
       " 'msa',\n",
       " 'national chicle',\n",
       " 'navarrete',\n",
       " 'nba properties',\n",
       " 'netpro',\n",
       " 'nfl players association',\n",
       " 'nfl properties',\n",
       " 'nintendo',\n",
       " 'nsi marketing limited',\n",
       " 'nu-cards',\n",
       " 'onyx authenticated',\n",
       " 'o-pee-chee',\n",
       " 'pacific',\n",
       " 'panini',\n",
       " 'parkhurst',\n",
       " 'parkside',\n",
       " 'philadelphia gum',\n",
       " 'pinnacle',\n",
       " 'playoff',\n",
       " 'post',\n",
       " 'press pass',\n",
       " 'procards',\n",
       " 'pro set',\n",
       " 'r.e.l.',\n",
       " 'razor',\n",
       " 'red man',\n",
       " 'regina',\n",
       " 'ringside',\n",
       " 'rittenhouse',\n",
       " 'roox limited corp.',\n",
       " 'sage',\n",
       " 'scanlens',\n",
       " 'score',\n",
       " 'select',\n",
       " 'sereal',\n",
       " 'shirriff coins',\n",
       " 'signature rookies',\n",
       " 'skybox',\n",
       " 'sp authentic',\n",
       " 'sportflics',\n",
       " 'sport kings',\n",
       " 'sportscaster',\n",
       " 'sports illustrated',\n",
       " 'spx',\n",
       " 'stadium club',\n",
       " 'star pics',\n",
       " 'superior pix',\n",
       " 'superior rookies',\n",
       " 'tcma',\n",
       " 'team issue',\n",
       " 'the score board',\n",
       " 'inc',\n",
       " 'the star co.',\n",
       " 'topps',\n",
       " 'topps supreme',\n",
       " 'tristar',\n",
       " 'ty',\n",
       " 'ultimate guard',\n",
       " 'ultimate trading card co.',\n",
       " 'ultra pro',\n",
       " 'upper deck',\n",
       " 'vachon',\n",
       " 'wheaties',\n",
       " 'wheels',\n",
       " 'wild card',\n",
       " 'wills',\n",
       " 'wizards of the coast',\n",
       " 'wow',\n",
       " 'unbranded',\n",
       " 'not specified',\n",
       " '5FINITY',\n",
       " '7th Inning Sketch',\n",
       " 'AAA Sports Memorabilia',\n",
       " 'Ace Authentic',\n",
       " 'Action Packed',\n",
       " 'AEG',\n",
       " 'Allens',\n",
       " 'American Caramel',\n",
       " 'APBA',\n",
       " 'Artbox',\n",
       " 'Atlantic',\n",
       " 'AW Sports',\n",
       " 'Inc.',\n",
       " 'Bandaibaseball Magazine',\n",
       " 'Bazooka',\n",
       " 'Be A Player',\n",
       " 'Bench Warmer',\n",
       " 'Bleachers',\n",
       " 'Bowman',\n",
       " 'Bushiroad',\n",
       " 'Calbee',\n",
       " 'Callahan HALL OF FAME',\n",
       " 'CARDZ Distribution',\n",
       " 'Champion Cards',\n",
       " 'Choice Marketing',\n",
       " 'Inc',\n",
       " 'Chris Martin Enterprises',\n",
       " 'Inc.',\n",
       " 'Classic Games',\n",
       " 'Inc',\n",
       " 'Classic Marketing',\n",
       " 'Inc.',\n",
       " 'CMC',\n",
       " 'Coles',\n",
       " \"Collector's Edge\",\n",
       " 'College Classics',\n",
       " 'Inc.',\n",
       " 'Collegiate Collection',\n",
       " 'Comic Images',\n",
       " 'Courtside',\n",
       " 'Cracker Jack',\n",
       " 'Cryptozoic',\n",
       " 'Dan Dee',\n",
       " 'Diamond Kings',\n",
       " 'Diamond Stars',\n",
       " 'Disney',\n",
       " 'Donruss',\n",
       " 'Donruss',\n",
       " 'Playoff',\n",
       " 'Double Play',\n",
       " 'Eclipse Cards',\n",
       " 'Enor',\n",
       " 'Exhibits',\n",
       " 'Fantasy Flight Games',\n",
       " 'Félix Potin',\n",
       " 'Fleer',\n",
       " 'Fleer/Skybox International',\n",
       " 'Futera',\n",
       " 'Goal Line',\n",
       " 'Goal Line Art',\n",
       " 'Goudey',\n",
       " 'Grandstand',\n",
       " 'Hasbro',\n",
       " 'Hi-Pro Marketing',\n",
       " 'Inc.',\n",
       " 'Homogenized Bond',\n",
       " 'Impel',\n",
       " 'Imperial Tobacco Canada',\n",
       " 'In The Game',\n",
       " 'JOGO',\n",
       " 'Inc.',\n",
       " 'Just Memorabilia',\n",
       " 'Just Minors',\n",
       " \"Kahn's\",\n",
       " \"Kellogg's\",\n",
       " 'Kenner',\n",
       " 'Konami',\n",
       " 'Leaf',\n",
       " 'Marvel',\n",
       " 'Merlin',\n",
       " 'Milk Duds',\n",
       " 'Mobil',\n",
       " 'Monty Gum',\n",
       " 'MSA',\n",
       " 'National Chicle',\n",
       " 'Navarrete',\n",
       " 'NBA Properties',\n",
       " 'Netpro',\n",
       " 'NFL Players Association',\n",
       " 'NFL Properties',\n",
       " 'Nintendo',\n",
       " 'NSI Marketing Limited',\n",
       " 'Nu-Cards',\n",
       " 'Onyx Authenticated',\n",
       " 'O-Pee-Chee',\n",
       " 'Pacific',\n",
       " 'Panini',\n",
       " 'Parkhurst',\n",
       " 'Parkside',\n",
       " 'Philadelphia Gum',\n",
       " 'Pinnacle',\n",
       " 'Playoff',\n",
       " 'Post',\n",
       " 'Press Pass',\n",
       " 'Procards',\n",
       " 'Pro Set',\n",
       " 'R.E.L.',\n",
       " 'Razor',\n",
       " 'Red Man',\n",
       " 'Regina',\n",
       " 'Ringside',\n",
       " 'Rittenhouse',\n",
       " 'Roox Limited Corp.',\n",
       " 'SAGE',\n",
       " 'Scanlens',\n",
       " 'SCORE',\n",
       " 'Select',\n",
       " 'Sereal',\n",
       " 'Shirriff Coins',\n",
       " 'Signature Rookies',\n",
       " 'Skybox',\n",
       " 'Sp Authentic',\n",
       " 'Sportflics',\n",
       " 'Sport Kings',\n",
       " 'Sportscaster',\n",
       " 'Sports Illustrated',\n",
       " 'SPX',\n",
       " 'Stadium Club',\n",
       " 'Star Pics',\n",
       " 'Superior Pix',\n",
       " 'Superior Rookies',\n",
       " 'TCMA',\n",
       " 'Team Issue',\n",
       " 'The Score Board',\n",
       " 'Inc',\n",
       " 'The Star Co.',\n",
       " 'Topps',\n",
       " 'Topps Supreme',\n",
       " 'Tristar',\n",
       " 'Ty',\n",
       " 'Ultimate Guard',\n",
       " 'Ultimate Trading Card Co.',\n",
       " 'Ultra PRO',\n",
       " 'Upper Deck',\n",
       " 'Vachon',\n",
       " 'Wheaties',\n",
       " 'Wheels',\n",
       " 'Wild Card',\n",
       " 'Wills',\n",
       " 'Wizards Of The Coast',\n",
       " 'WOW',\n",
       " 'Unbranded',\n",
       " 'Not Specified']"
      ]
     },
     "execution_count": 71,
     "metadata": {},
     "output_type": "execute_result"
    }
   ],
   "source": [
    "# inspect brands list\n",
    "brand_list"
   ]
  },
  {
   "cell_type": "markdown",
   "id": "26f9c7a5",
   "metadata": {},
   "source": [
    "Now that we have a brand list ready, let’s search for the brands in the text of the title column and extract them to a new column."
   ]
  },
  {
   "cell_type": "code",
   "execution_count": 72,
   "id": "41298f6a",
   "metadata": {},
   "outputs": [],
   "source": [
    "# grab brand from title column if it is in brand_list\n",
    "df['card_brand'] = df['title'].str.extract('({})'.format('|'.join(brand_list)), expand=True)"
   ]
  },
  {
   "cell_type": "code",
   "execution_count": 73,
   "id": "b066d346",
   "metadata": {},
   "outputs": [
    {
     "data": {
      "text/html": [
       "<div>\n",
       "<style scoped>\n",
       "    .dataframe tbody tr th:only-of-type {\n",
       "        vertical-align: middle;\n",
       "    }\n",
       "\n",
       "    .dataframe tbody tr th {\n",
       "        vertical-align: top;\n",
       "    }\n",
       "\n",
       "    .dataframe thead th {\n",
       "        text-align: right;\n",
       "    }\n",
       "</style>\n",
       "<table border=\"1\" class=\"dataframe\">\n",
       "  <thead>\n",
       "    <tr style=\"text-align: right;\">\n",
       "      <th></th>\n",
       "      <th>card_brand</th>\n",
       "      <th>url</th>\n",
       "      <th>title</th>\n",
       "    </tr>\n",
       "  </thead>\n",
       "  <tbody>\n",
       "    <tr>\n",
       "      <th>1</th>\n",
       "      <td>NaN</td>\n",
       "      <td>https://www.ebay.com/itm/195083288951</td>\n",
       "      <td>SUPER RARE ( ELITE STATUS ) 2000 TOM BRADY ROOKIE DONURSS S/N 05/10 PSA 10 POP 1</td>\n",
       "    </tr>\n",
       "    <tr>\n",
       "      <th>2</th>\n",
       "      <td>NaN</td>\n",
       "      <td>https://www.ebay.com/itm/285024859926</td>\n",
       "      <td>2003 LEBRON JAMES RC UD ROOKIE EXCLUSIVES AUTO GEM MINT Rare Highest Graded</td>\n",
       "    </tr>\n",
       "    <tr>\n",
       "      <th>4</th>\n",
       "      <td>NaN</td>\n",
       "      <td>https://www.ebay.com/itm/204074772841</td>\n",
       "      <td>RARE 2007 Tom Brady Autograph Plaque 16-0 #Undefeated #GreatnessCode #RookieCard</td>\n",
       "    </tr>\n",
       "    <tr>\n",
       "      <th>5</th>\n",
       "      <td>NaN</td>\n",
       "      <td>https://www.ebay.com/itm/265932738980</td>\n",
       "      <td>1947 Jackie Robinson Rookie RC Brooklyn Dodgers 1st MLB Appearance PSA 9 Mint</td>\n",
       "    </tr>\n",
       "    <tr>\n",
       "      <th>6</th>\n",
       "      <td>NaN</td>\n",
       "      <td>https://www.ebay.com/itm/383932760088</td>\n",
       "      <td>2015-16 Exquisite Connor McDavid 1/1 RPA NHL Shield Logo Patch BGS 9.5 10 AUTO</td>\n",
       "    </tr>\n",
       "    <tr>\n",
       "      <th>7</th>\n",
       "      <td>NaN</td>\n",
       "      <td>https://www.ebay.com/itm/144603360662</td>\n",
       "      <td>Lebron James 2003 SP Signature Edition RC Inscription 'The KING' Auto /25 BGS10</td>\n",
       "    </tr>\n",
       "    <tr>\n",
       "      <th>9</th>\n",
       "      <td>NaN</td>\n",
       "      <td>https://www.ebay.com/itm/284482688684</td>\n",
       "      <td>2003-04 UD Rookie Exclusives AUTOGRAPH Michael Jordan A60 BGS PRISTINE 10 POP 1!</td>\n",
       "    </tr>\n",
       "    <tr>\n",
       "      <th>12</th>\n",
       "      <td>NaN</td>\n",
       "      <td>https://www.ebay.com/itm/175281488184</td>\n",
       "      <td>2009 National Treasures Stephen Curry RC Jersey Auto /99 RPA BGS 9</td>\n",
       "    </tr>\n",
       "    <tr>\n",
       "      <th>17</th>\n",
       "      <td>NaN</td>\n",
       "      <td>https://www.ebay.com/itm/164779971947</td>\n",
       "      <td>2003 Ultimate LeBron James ROOKIE AUTO /250 #127 BGS  PRISTINE 10! Holy Grail!!</td>\n",
       "    </tr>\n",
       "    <tr>\n",
       "      <th>18</th>\n",
       "      <td>NaN</td>\n",
       "      <td>https://www.ebay.com/itm/264275394203</td>\n",
       "      <td>1997 Browns Boxing #51 Floyd Mayweather Jr Rookie RC BGS 10 PRISTINE</td>\n",
       "    </tr>\n",
       "    <tr>\n",
       "      <th>19</th>\n",
       "      <td>NaN</td>\n",
       "      <td>https://www.ebay.com/itm/164273520110</td>\n",
       "      <td>2019-20 National Treasures Basketball Zion Williamson FOTL RPA 30/30 BGS 9.0/10</td>\n",
       "    </tr>\n",
       "    <tr>\n",
       "      <th>22</th>\n",
       "      <td>NaN</td>\n",
       "      <td>https://www.ebay.com/itm/275524977384</td>\n",
       "      <td>BGS 10 PRISTINE 1997-98 PRECIOUS METALS PLATINUM WAYNE GRETZKY BLACK LABEL POP 1</td>\n",
       "    </tr>\n",
       "    <tr>\n",
       "      <th>24</th>\n",
       "      <td>NaN</td>\n",
       "      <td>https://www.ebay.com/itm/363272504529</td>\n",
       "      <td>1993 SP Foil #279 Derek Jeter RC Rookie HOF BGS 9.5 POP 1 ONLY HIGHEST GRADED</td>\n",
       "    </tr>\n",
       "    <tr>\n",
       "      <th>30</th>\n",
       "      <td>NaN</td>\n",
       "      <td>https://www.ebay.com/itm/144389574812</td>\n",
       "      <td>2003-04 SP Signature Edition Rookie INKorporated LeBron James 77/100 BGS 10 Auto</td>\n",
       "    </tr>\n",
       "    <tr>\n",
       "      <th>36</th>\n",
       "      <td>NaN</td>\n",
       "      <td>https://www.ebay.com/itm/302752873086</td>\n",
       "      <td>2015 SAM DARNOLD 1/1 ARMY XRC RC AUTO GOLD PSA ROOKIE PATCH AUTOGRAPH COLLECTION</td>\n",
       "    </tr>\n",
       "    <tr>\n",
       "      <th>38</th>\n",
       "      <td>NaN</td>\n",
       "      <td>https://www.ebay.com/itm/321681817562</td>\n",
       "      <td>TOM BRADY 2000 Contenders RC AUTO BGS GEM MINT 9.5 / 10 PRISTINE Auto ~ POP 15 ~</td>\n",
       "    </tr>\n",
       "    <tr>\n",
       "      <th>39</th>\n",
       "      <td>NaN</td>\n",
       "      <td>https://www.ebay.com/itm/255273400612</td>\n",
       "      <td>1998-99 Flair Showcase Tim Duncan The Only 1 of 1 Masterpiece Legacy Collection</td>\n",
       "    </tr>\n",
       "    <tr>\n",
       "      <th>41</th>\n",
       "      <td>NaN</td>\n",
       "      <td>https://www.ebay.com/itm/333906460497</td>\n",
       "      <td>Babe Ruth Card 1921 - Highest Graded Card in the World!</td>\n",
       "    </tr>\n",
       "    <tr>\n",
       "      <th>44</th>\n",
       "      <td>NaN</td>\n",
       "      <td>https://www.ebay.com/itm/371797463657</td>\n",
       "      <td>2005-06 SIDNEY CROSBY HOT PROSPECTS RPA ROOKIE PATCH AUTO /199 BGS 9.5 POP 1/1</td>\n",
       "    </tr>\n",
       "    <tr>\n",
       "      <th>48</th>\n",
       "      <td>NaN</td>\n",
       "      <td>https://www.ebay.com/itm/284434558461</td>\n",
       "      <td>🔥  11/14/1997 Bulls Signed 🔥 MICHAEL JORDAN Ticket Stub vs. Hornets AUTO 1/1 !</td>\n",
       "    </tr>\n",
       "    <tr>\n",
       "      <th>49</th>\n",
       "      <td>NaN</td>\n",
       "      <td>https://www.ebay.com/itm/394340522819</td>\n",
       "      <td>PSA 10 Shaquille O'Neal Gem mint 1997 Collector Choice Starquest Low population</td>\n",
       "    </tr>\n",
       "    <tr>\n",
       "      <th>51</th>\n",
       "      <td>NaN</td>\n",
       "      <td>https://www.ebay.com/itm/373489580899</td>\n",
       "      <td>1984 signed Olympics Ticket Card Michael Jordan Rookie Autograph Rare 1/1 Auto</td>\n",
       "    </tr>\n",
       "    <tr>\n",
       "      <th>52</th>\n",
       "      <td>NaN</td>\n",
       "      <td>https://www.ebay.com/itm/265417871082</td>\n",
       "      <td>2000 Tom Brady Rookie card Collection (now 40 cards in total)</td>\n",
       "    </tr>\n",
       "    <tr>\n",
       "      <th>54</th>\n",
       "      <td>NaN</td>\n",
       "      <td>https://www.ebay.com/itm/333981184558</td>\n",
       "      <td>1985 WWF Hulk Hogan card BGS 9.5</td>\n",
       "    </tr>\n",
       "    <tr>\n",
       "      <th>57</th>\n",
       "      <td>NaN</td>\n",
       "      <td>https://www.ebay.com/itm/363247298491</td>\n",
       "      <td>1997-98 UD Game Jerseys Michael Jordan BGS 9.5 w/ 10 AUTO UDA POP 1 NONE HIGHER</td>\n",
       "    </tr>\n",
       "    <tr>\n",
       "      <th>58</th>\n",
       "      <td>NaN</td>\n",
       "      <td>https://www.ebay.com/itm/115467501529</td>\n",
       "      <td>2020 National Treasures Justin Herbert FOTL PSA 10/10</td>\n",
       "    </tr>\n",
       "    <tr>\n",
       "      <th>60</th>\n",
       "      <td>NaN</td>\n",
       "      <td>https://www.ebay.com/itm/144458645625</td>\n",
       "      <td>2003 LEBRON JAMES SP Signature Edition INKcredible INK Auto 21/25 RC BGS 9.5 10</td>\n",
       "    </tr>\n",
       "    <tr>\n",
       "      <th>64</th>\n",
       "      <td>NaN</td>\n",
       "      <td>https://www.ebay.com/itm/143604881302</td>\n",
       "      <td>(64) Mike Trout 2009-2010-2011 AUTO RC Chrome RED ORANGE GOLD BLUE Refractor LOT</td>\n",
       "    </tr>\n",
       "    <tr>\n",
       "      <th>68</th>\n",
       "      <td>NaN</td>\n",
       "      <td>https://www.ebay.com/itm/324293562221</td>\n",
       "      <td>Signature Autograph 2003-04 Extreme Rimouski Oceanic Sidney Crosby BAS Auto 1/1</td>\n",
       "    </tr>\n",
       "    <tr>\n",
       "      <th>69</th>\n",
       "      <td>NaN</td>\n",
       "      <td>https://www.ebay.com/itm/295124497348</td>\n",
       "      <td>1985 Nike Michael Jordan BGS 10 Pristine #2 Rookie RC * pop 4 *</td>\n",
       "    </tr>\n",
       "  </tbody>\n",
       "</table>\n",
       "</div>"
      ],
      "text/plain": [
       "   card_brand                                    url  \\\n",
       "1         NaN  https://www.ebay.com/itm/195083288951   \n",
       "2         NaN  https://www.ebay.com/itm/285024859926   \n",
       "4         NaN  https://www.ebay.com/itm/204074772841   \n",
       "5         NaN  https://www.ebay.com/itm/265932738980   \n",
       "6         NaN  https://www.ebay.com/itm/383932760088   \n",
       "7         NaN  https://www.ebay.com/itm/144603360662   \n",
       "9         NaN  https://www.ebay.com/itm/284482688684   \n",
       "12        NaN  https://www.ebay.com/itm/175281488184   \n",
       "17        NaN  https://www.ebay.com/itm/164779971947   \n",
       "18        NaN  https://www.ebay.com/itm/264275394203   \n",
       "19        NaN  https://www.ebay.com/itm/164273520110   \n",
       "22        NaN  https://www.ebay.com/itm/275524977384   \n",
       "24        NaN  https://www.ebay.com/itm/363272504529   \n",
       "30        NaN  https://www.ebay.com/itm/144389574812   \n",
       "36        NaN  https://www.ebay.com/itm/302752873086   \n",
       "38        NaN  https://www.ebay.com/itm/321681817562   \n",
       "39        NaN  https://www.ebay.com/itm/255273400612   \n",
       "41        NaN  https://www.ebay.com/itm/333906460497   \n",
       "44        NaN  https://www.ebay.com/itm/371797463657   \n",
       "48        NaN  https://www.ebay.com/itm/284434558461   \n",
       "49        NaN  https://www.ebay.com/itm/394340522819   \n",
       "51        NaN  https://www.ebay.com/itm/373489580899   \n",
       "52        NaN  https://www.ebay.com/itm/265417871082   \n",
       "54        NaN  https://www.ebay.com/itm/333981184558   \n",
       "57        NaN  https://www.ebay.com/itm/363247298491   \n",
       "58        NaN  https://www.ebay.com/itm/115467501529   \n",
       "60        NaN  https://www.ebay.com/itm/144458645625   \n",
       "64        NaN  https://www.ebay.com/itm/143604881302   \n",
       "68        NaN  https://www.ebay.com/itm/324293562221   \n",
       "69        NaN  https://www.ebay.com/itm/295124497348   \n",
       "\n",
       "                                                                               title  \n",
       "1   SUPER RARE ( ELITE STATUS ) 2000 TOM BRADY ROOKIE DONURSS S/N 05/10 PSA 10 POP 1  \n",
       "2        2003 LEBRON JAMES RC UD ROOKIE EXCLUSIVES AUTO GEM MINT Rare Highest Graded  \n",
       "4   RARE 2007 Tom Brady Autograph Plaque 16-0 #Undefeated #GreatnessCode #RookieCard  \n",
       "5      1947 Jackie Robinson Rookie RC Brooklyn Dodgers 1st MLB Appearance PSA 9 Mint  \n",
       "6     2015-16 Exquisite Connor McDavid 1/1 RPA NHL Shield Logo Patch BGS 9.5 10 AUTO  \n",
       "7    Lebron James 2003 SP Signature Edition RC Inscription 'The KING' Auto /25 BGS10  \n",
       "9   2003-04 UD Rookie Exclusives AUTOGRAPH Michael Jordan A60 BGS PRISTINE 10 POP 1!  \n",
       "12                2009 National Treasures Stephen Curry RC Jersey Auto /99 RPA BGS 9  \n",
       "17   2003 Ultimate LeBron James ROOKIE AUTO /250 #127 BGS  PRISTINE 10! Holy Grail!!  \n",
       "18              1997 Browns Boxing #51 Floyd Mayweather Jr Rookie RC BGS 10 PRISTINE  \n",
       "19   2019-20 National Treasures Basketball Zion Williamson FOTL RPA 30/30 BGS 9.0/10  \n",
       "22  BGS 10 PRISTINE 1997-98 PRECIOUS METALS PLATINUM WAYNE GRETZKY BLACK LABEL POP 1  \n",
       "24     1993 SP Foil #279 Derek Jeter RC Rookie HOF BGS 9.5 POP 1 ONLY HIGHEST GRADED  \n",
       "30  2003-04 SP Signature Edition Rookie INKorporated LeBron James 77/100 BGS 10 Auto  \n",
       "36  2015 SAM DARNOLD 1/1 ARMY XRC RC AUTO GOLD PSA ROOKIE PATCH AUTOGRAPH COLLECTION  \n",
       "38  TOM BRADY 2000 Contenders RC AUTO BGS GEM MINT 9.5 / 10 PRISTINE Auto ~ POP 15 ~  \n",
       "39   1998-99 Flair Showcase Tim Duncan The Only 1 of 1 Masterpiece Legacy Collection  \n",
       "41                           Babe Ruth Card 1921 - Highest Graded Card in the World!  \n",
       "44    2005-06 SIDNEY CROSBY HOT PROSPECTS RPA ROOKIE PATCH AUTO /199 BGS 9.5 POP 1/1  \n",
       "48    🔥  11/14/1997 Bulls Signed 🔥 MICHAEL JORDAN Ticket Stub vs. Hornets AUTO 1/1 !  \n",
       "49   PSA 10 Shaquille O'Neal Gem mint 1997 Collector Choice Starquest Low population  \n",
       "51    1984 signed Olympics Ticket Card Michael Jordan Rookie Autograph Rare 1/1 Auto  \n",
       "52                     2000 Tom Brady Rookie card Collection (now 40 cards in total)  \n",
       "54                                                  1985 WWF Hulk Hogan card BGS 9.5  \n",
       "57   1997-98 UD Game Jerseys Michael Jordan BGS 9.5 w/ 10 AUTO UDA POP 1 NONE HIGHER  \n",
       "58                             2020 National Treasures Justin Herbert FOTL PSA 10/10  \n",
       "60   2003 LEBRON JAMES SP Signature Edition INKcredible INK Auto 21/25 RC BGS 9.5 10  \n",
       "64  (64) Mike Trout 2009-2010-2011 AUTO RC Chrome RED ORANGE GOLD BLUE Refractor LOT  \n",
       "68   Signature Autograph 2003-04 Extreme Rimouski Oceanic Sidney Crosby BAS Auto 1/1  \n",
       "69                   1985 Nike Michael Jordan BGS 10 Pristine #2 Rookie RC * pop 4 *  "
      ]
     },
     "execution_count": 73,
     "metadata": {},
     "output_type": "execute_result"
    }
   ],
   "source": [
    "# show Nan values from card_brand column\n",
    "df[df['card_brand'].isnull()][['card_brand','url','title']].head(30)\n"
   ]
  },
  {
   "cell_type": "code",
   "execution_count": 74,
   "id": "d00d8cd7",
   "metadata": {},
   "outputs": [
    {
     "data": {
      "text/plain": [
       "13678"
      ]
     },
     "execution_count": 74,
     "metadata": {},
     "output_type": "execute_result"
    }
   ],
   "source": [
    "# show number of Nan values from card_brand column\n",
    "df.card_brand.isnull().sum()"
   ]
  },
  {
   "cell_type": "markdown",
   "id": "2c51396b",
   "metadata": {},
   "source": [
    "Seems like most of the missing brands names are due to non popular brands or sets of cards instead of single listings. Let's drop them."
   ]
  },
  {
   "cell_type": "code",
   "execution_count": 75,
   "id": "7719a76e",
   "metadata": {},
   "outputs": [
    {
     "data": {
      "text/plain": [
       "0"
      ]
     },
     "execution_count": 75,
     "metadata": {},
     "output_type": "execute_result"
    }
   ],
   "source": [
    "# drop rows with Nan values in card_brand column\n",
    "df.dropna(subset=['card_brand'], inplace=True)\n",
    "\n",
    "# check\n",
    "df.card_brand.isnull().sum()"
   ]
  },
  {
   "cell_type": "code",
   "execution_count": 76,
   "id": "f93b01be",
   "metadata": {},
   "outputs": [
    {
     "data": {
      "text/plain": [
       "Panini        11214\n",
       "Topps          9956\n",
       "Bowman         5228\n",
       "TOPPS          2528\n",
       "PANINI         2125\n",
       "Fleer          1572\n",
       "Donruss        1469\n",
       "Upper Deck     1373\n",
       "Select         1066\n",
       "BOWMAN          902\n",
       "Leaf            652\n",
       "UPPER DECK      432\n",
       "FLEER           425\n",
       "Skybox          292\n",
       "Ty              272\n",
       "Goudey          270\n",
       "DONRUSS         269\n",
       "panini          243\n",
       "SELECT          233\n",
       "Playoff         233\n",
       "Name: card_brand, dtype: int64"
      ]
     },
     "execution_count": 76,
     "metadata": {},
     "output_type": "execute_result"
    }
   ],
   "source": [
    "# Check found brand names\n",
    "df.card_brand.value_counts().head(20)"
   ]
  },
  {
   "attachments": {},
   "cell_type": "markdown",
   "id": "1971f875",
   "metadata": {},
   "source": [
    "There is a repetition of brand categories due to the case sensitivity in letters. We can create a dictionary with possible case combinations and map to concatenate such repetitive names."
   ]
  },
  {
   "cell_type": "code",
   "execution_count": 77,
   "id": "de4e9b69",
   "metadata": {},
   "outputs": [],
   "source": [
    "# map values in card_brand to a custom dictionary\n",
    "brand_dict = {'PANINI':'Panini','panini':'Panini',\n",
    "              'TOPPS':'Topps','topps':'Topps',\n",
    "              'BOWMAN':'Bowman','bowman':'Bowman',\n",
    "              'UD':'Upper Deck','ud':'Upper Deck','UPPER DECK':'Upper Deck','upper deck':'Upper Deck',\n",
    "              'DONRUSS':'Donruss','donruss':'Donruss',\n",
    "              'FLEER':'Fleer','fleer':'Fleer',\n",
    "              'SELECT':'Select','select':'Select',\n",
    "              'LEAF':'Leaf','leaf':'Leaf',\n",
    "              'SKYBOX':'Skybox','skybox':'Skybox',\n",
    "              'SP':'SportsPicks','sp':'SportsPicks','SPORTSPICKS':'SportsPicks','sportspicks':'SportsPicks',\n",
    "              'TRISTAR':'Tristar','tristar':'Tristar',\n",
    "              'TY':'ty','ty':'Ty',\n",
    "              'PACIFIC':'Pacific','pacific':'Pacific',\n",
    "              'SP AUTHENTIC':'SP Authentic','sp authentic':'SP Authentic',\n",
    "              'Spx':'SPX','spx':'SPX',\n",
    "              'PARKHURST':'Parkhurst','parkhurst':'Parkhurst',\n",
    "              'GOUDEY':'Goudey','goudey':'Goudey',\n",
    "              'PLAYOFF':'Playoff','playoff':'Playoff',\n",
    "              'O-PEE-CHEE':'O-Pee-Chee','o-pee-chee':'O-Pee-Chee',\n",
    "              'STADIUM CLUB':'Stadium Club','stadium club':'Stadium Club',\n",
    "              'PRESS PASS':'Press Pass','press pass':'Press',\n",
    "              'BAZOOKA':'Bazooka','bazooka':'Bazooka',\n",
    "              'NETPRO':'NetPro','netpro':'NetPro',\n",
    "              'POST':'Post','post':'Post',\n",
    "              'SCORE':'Score','score':'Score',\n",
    "              'AMERICAN CARAMEL':'American Caramel','american caramel':'American Caramel',\n",
    "              'EXHIBITS':'Exhibits','exhibits':'Exhibits',\n",
    "              'MERLIN':'Merlin','merlin':'Merlin',\n",
    "              'INCH':'Inch','inch':'Inch',\n",
    "              'SIGNATURE ROOKIES':'Signature Rookies','signature rookies':'Signature Rookies',\n",
    "              'PRO SET':'Pro Set','pro set':'Pro Set',\n",
    "              'ENOR': 'Enor','enor':'Enor'}\n",
    "\n",
    "# replace values in card_brand column with values in brand_dict if they match, else leave as is\n",
    "df['card_brand'] = df['card_brand'].map(brand_dict).fillna(df['card_brand'])\n",
    "              \n",
    "\n"
   ]
  },
  {
   "cell_type": "code",
   "execution_count": 78,
   "id": "6402235f",
   "metadata": {},
   "outputs": [
    {
     "data": {
      "text/plain": [
       "Panini          13582\n",
       "Topps           12713\n",
       "Bowman           6224\n",
       "Fleer            2045\n",
       "Upper Deck       1834\n",
       "Donruss          1764\n",
       "Select           1352\n",
       "Leaf              853\n",
       "Skybox            403\n",
       "Ty                401\n",
       "O-Pee-Chee        382\n",
       "Goudey            306\n",
       "Playoff           299\n",
       "ty                186\n",
       "Stadium Club      180\n",
       "Pacific           158\n",
       "Parkhurst         141\n",
       "SP Authentic      109\n",
       "SPX                95\n",
       "Press Pass         81\n",
       "Name: card_brand, dtype: int64"
      ]
     },
     "execution_count": 78,
     "metadata": {},
     "output_type": "execute_result"
    }
   ],
   "source": [
    "# check\n",
    "df.card_brand.value_counts().head(20)"
   ]
  },
  {
   "attachments": {},
   "cell_type": "markdown",
   "id": "13dede5d",
   "metadata": {},
   "source": [
    "### Feature Engineering `card_singed` column"
   ]
  },
  {
   "attachments": {},
   "cell_type": "markdown",
   "id": "b3fecfdf",
   "metadata": {},
   "source": [
    "Whether a card is autographed or not can be a valuable feature for our analysis. We can use the title column to create a new column that will be a string \"Yes\" if the card is autographed and \"No\" if it is not.\n",
    "To do so, we must first look for keywords in the text indicating that a card is signed. We can do this by creating a possible list of keyword combinations to look for.\n"
   ]
  },
  {
   "cell_type": "code",
   "execution_count": 80,
   "id": "0f54d301",
   "metadata": {},
   "outputs": [],
   "source": [
    "# List of possible keywords to look for in title column\n",
    "singed = ['Signed','signed','Autographed','autographed','Autograph','autograph','Autographed Card','autographed card','Autographed Card','autographed card']\n"
   ]
  },
  {
   "cell_type": "code",
   "execution_count": 81,
   "id": "4350b3ec",
   "metadata": {},
   "outputs": [
    {
     "data": {
      "text/plain": [
       "No             42002\n",
       "Autograph       1645\n",
       "Signed           439\n",
       "Autographed      133\n",
       "autograph         55\n",
       "signed            27\n",
       "autographed       13\n",
       "Name: card_singed, dtype: int64"
      ]
     },
     "execution_count": 81,
     "metadata": {},
     "output_type": "execute_result"
    }
   ],
   "source": [
    "# grab keyword from title column if it is in singed list and replace other with  'No'\n",
    "df['card_singed'] = df['title'].str.extract('({})'.format('|'.join(singed)), expand=True).replace(np.nan, 'No')\n",
    "\n",
    "# check\n",
    "df.card_singed.value_counts()"
   ]
  },
  {
   "cell_type": "markdown",
   "id": "3bc17cde",
   "metadata": {},
   "source": [
    "All the other values aprt from 'No' are the same, so we can replace them with 'Yes'."
   ]
  },
  {
   "cell_type": "code",
   "execution_count": 82,
   "id": "8db5e325",
   "metadata": {},
   "outputs": [
    {
     "data": {
      "text/plain": [
       "No     42002\n",
       "Yes     2312\n",
       "Name: card_singed, dtype: int64"
      ]
     },
     "execution_count": 82,
     "metadata": {},
     "output_type": "execute_result"
    }
   ],
   "source": [
    "# if value from card_singed column is in singed list replace with 'Yes'\n",
    "df['card_singed'] = df['card_singed'].replace(singed, 'Yes')\n",
    "\n",
    "#check\n",
    "df.card_singed.value_counts()"
   ]
  },
  {
   "cell_type": "markdown",
   "id": "16017cbc",
   "metadata": {},
   "source": [
    "---\n",
    "># Conclustion"
   ]
  },
  {
   "attachments": {},
   "cell_type": "markdown",
   "id": "7784e5de",
   "metadata": {},
   "source": [
    "We have cleaned the dataset and created new meaningful features. Let's inspect and export the cleaned version that ready to be analyzed"
   ]
  },
  {
   "cell_type": "code",
   "execution_count": 83,
   "id": "267ec4d4",
   "metadata": {},
   "outputs": [
    {
     "name": "stdout",
     "output_type": "stream",
     "text": [
      "<class 'pandas.core.frame.DataFrame'>\n",
      "Int64Index: 44314 entries, 0 to 60472\n",
      "Data columns (total 10 columns):\n",
      " #   Column        Non-Null Count  Dtype  \n",
      "---  ------        --------------  -----  \n",
      " 0   price         44314 non-null  float64\n",
      " 1   title         44314 non-null  object \n",
      " 2   url           44314 non-null  object \n",
      " 3   whyToBuy/0    44314 non-null  object \n",
      " 4   item_country  44314 non-null  object \n",
      " 5   item_state    44314 non-null  object \n",
      " 6   item_city     44314 non-null  object \n",
      " 7   card_year     44314 non-null  object \n",
      " 8   card_brand    44314 non-null  object \n",
      " 9   card_singed   44314 non-null  object \n",
      "dtypes: float64(1), object(9)\n",
      "memory usage: 3.7+ MB\n"
     ]
    }
   ],
   "source": [
    "df.info()"
   ]
  },
  {
   "cell_type": "code",
   "execution_count": 84,
   "id": "be38028d",
   "metadata": {},
   "outputs": [
    {
     "data": {
      "text/html": [
       "<div>\n",
       "<style scoped>\n",
       "    .dataframe tbody tr th:only-of-type {\n",
       "        vertical-align: middle;\n",
       "    }\n",
       "\n",
       "    .dataframe tbody tr th {\n",
       "        vertical-align: top;\n",
       "    }\n",
       "\n",
       "    .dataframe thead th {\n",
       "        text-align: right;\n",
       "    }\n",
       "</style>\n",
       "<table border=\"1\" class=\"dataframe\">\n",
       "  <thead>\n",
       "    <tr style=\"text-align: right;\">\n",
       "      <th></th>\n",
       "      <th>price</th>\n",
       "      <th>title</th>\n",
       "      <th>url</th>\n",
       "      <th>whyToBuy/0</th>\n",
       "      <th>item_country</th>\n",
       "      <th>item_state</th>\n",
       "      <th>item_city</th>\n",
       "      <th>card_year</th>\n",
       "      <th>card_brand</th>\n",
       "      <th>card_singed</th>\n",
       "    </tr>\n",
       "  </thead>\n",
       "  <tbody>\n",
       "    <tr>\n",
       "      <th>44309</th>\n",
       "      <td>237.83</td>\n",
       "      <td>Wander Franco 2019 1st Bowman Chrome Mega Box Refractor RC Rays BGS 9.5 #BCP100</td>\n",
       "      <td>https://www.ebay.com/itm/334660820379</td>\n",
       "      <td>Ships from United States</td>\n",
       "      <td>United States</td>\n",
       "      <td>New York</td>\n",
       "      <td>Oswego</td>\n",
       "      <td>2019</td>\n",
       "      <td>Bowman</td>\n",
       "      <td>No</td>\n",
       "    </tr>\n",
       "    <tr>\n",
       "      <th>44310</th>\n",
       "      <td>150.00</td>\n",
       "      <td>PSA9 MINT 2013 Antti Raanta EXCLUSIVES Upper Deck Young Guns ROOKIE</td>\n",
       "      <td>https://www.ebay.com/itm/266035221956</td>\n",
       "      <td>Ships from United States</td>\n",
       "      <td>United States</td>\n",
       "      <td>Arizona</td>\n",
       "      <td>Phoenix</td>\n",
       "      <td>2013</td>\n",
       "      <td>Upper Deck</td>\n",
       "      <td>No</td>\n",
       "    </tr>\n",
       "    <tr>\n",
       "      <th>44311</th>\n",
       "      <td>325.00</td>\n",
       "      <td>1955 BOWMAN MICKEY MANTLE #202 PSA 1</td>\n",
       "      <td>https://www.ebay.com/itm/266035228289</td>\n",
       "      <td>Ships from United States</td>\n",
       "      <td>United States</td>\n",
       "      <td>Wisconsin</td>\n",
       "      <td>Oshkosh</td>\n",
       "      <td>1955</td>\n",
       "      <td>Bowman</td>\n",
       "      <td>No</td>\n",
       "    </tr>\n",
       "    <tr>\n",
       "      <th>44312</th>\n",
       "      <td>124.99</td>\n",
       "      <td>2019-20 Panini Mosaic Lebron James Silver Mosaic Prizm PSA Gem Mint 10 #8 Lakers</td>\n",
       "      <td>https://www.ebay.com/itm/204182013716</td>\n",
       "      <td>Ships from United States</td>\n",
       "      <td>United States</td>\n",
       "      <td>Indiana</td>\n",
       "      <td>Evansville</td>\n",
       "      <td>2019</td>\n",
       "      <td>Panini</td>\n",
       "      <td>No</td>\n",
       "    </tr>\n",
       "    <tr>\n",
       "      <th>44313</th>\n",
       "      <td>295.00</td>\n",
       "      <td>2015-16 PANINI PRIZM DEVIN BOOKER PSA 10 ROOKIE RC #308 PHOENIX SUNS</td>\n",
       "      <td>https://www.ebay.com/itm/404045492577</td>\n",
       "      <td>Ships from United States</td>\n",
       "      <td>United States</td>\n",
       "      <td>Illinois</td>\n",
       "      <td>Frankfort</td>\n",
       "      <td>2015</td>\n",
       "      <td>Panini</td>\n",
       "      <td>No</td>\n",
       "    </tr>\n",
       "  </tbody>\n",
       "</table>\n",
       "</div>"
      ],
      "text/plain": [
       "        price  \\\n",
       "44309  237.83   \n",
       "44310  150.00   \n",
       "44311  325.00   \n",
       "44312  124.99   \n",
       "44313  295.00   \n",
       "\n",
       "                                                                                  title  \\\n",
       "44309   Wander Franco 2019 1st Bowman Chrome Mega Box Refractor RC Rays BGS 9.5 #BCP100   \n",
       "44310               PSA9 MINT 2013 Antti Raanta EXCLUSIVES Upper Deck Young Guns ROOKIE   \n",
       "44311                                              1955 BOWMAN MICKEY MANTLE #202 PSA 1   \n",
       "44312  2019-20 Panini Mosaic Lebron James Silver Mosaic Prizm PSA Gem Mint 10 #8 Lakers   \n",
       "44313              2015-16 PANINI PRIZM DEVIN BOOKER PSA 10 ROOKIE RC #308 PHOENIX SUNS   \n",
       "\n",
       "                                         url                whyToBuy/0  \\\n",
       "44309  https://www.ebay.com/itm/334660820379  Ships from United States   \n",
       "44310  https://www.ebay.com/itm/266035221956  Ships from United States   \n",
       "44311  https://www.ebay.com/itm/266035228289  Ships from United States   \n",
       "44312  https://www.ebay.com/itm/204182013716  Ships from United States   \n",
       "44313  https://www.ebay.com/itm/404045492577  Ships from United States   \n",
       "\n",
       "         item_country  item_state   item_city card_year  card_brand  \\\n",
       "44309   United States    New York      Oswego      2019      Bowman   \n",
       "44310   United States     Arizona     Phoenix      2013  Upper Deck   \n",
       "44311   United States   Wisconsin     Oshkosh      1955      Bowman   \n",
       "44312   United States     Indiana  Evansville      2019      Panini   \n",
       "44313   United States    Illinois   Frankfort      2015      Panini   \n",
       "\n",
       "      card_singed  \n",
       "44309          No  \n",
       "44310          No  \n",
       "44311          No  \n",
       "44312          No  \n",
       "44313          No  "
      ]
     },
     "execution_count": 84,
     "metadata": {},
     "output_type": "execute_result"
    }
   ],
   "source": [
    "# reset index\n",
    "df.reset_index(drop=True, inplace=True)\n",
    "\n",
    "# check\n",
    "df.tail()"
   ]
  },
  {
   "cell_type": "code",
   "execution_count": 85,
   "id": "f7875aa4",
   "metadata": {},
   "outputs": [
    {
     "data": {
      "text/plain": [
       "(44314, 10)"
      ]
     },
     "execution_count": 85,
     "metadata": {},
     "output_type": "execute_result"
    }
   ],
   "source": [
    "df.shape"
   ]
  },
  {
   "attachments": {},
   "cell_type": "markdown",
   "id": "dfcf5155",
   "metadata": {},
   "source": [
    "Our cleaned and preprocessed dataset is ready to be used for analysis with 44,314 rows and 10 columns of valuable data on recent sports trading card listings on eBay USA.\n",
    "\n",
    "Let's export the cleaned version.\n"
   ]
  },
  {
   "cell_type": "code",
   "execution_count": 86,
   "id": "d53b96a6",
   "metadata": {},
   "outputs": [],
   "source": [
    "# save to csv\n",
    "df.to_csv('psa data/ebay_cards_cleaned.csv', index=False)"
   ]
  },
  {
   "cell_type": "code",
   "execution_count": 87,
   "id": "fdb9eb5f",
   "metadata": {},
   "outputs": [
    {
     "data": {
      "text/html": [
       "<div>\n",
       "<style scoped>\n",
       "    .dataframe tbody tr th:only-of-type {\n",
       "        vertical-align: middle;\n",
       "    }\n",
       "\n",
       "    .dataframe tbody tr th {\n",
       "        vertical-align: top;\n",
       "    }\n",
       "\n",
       "    .dataframe thead th {\n",
       "        text-align: right;\n",
       "    }\n",
       "</style>\n",
       "<table border=\"1\" class=\"dataframe\">\n",
       "  <thead>\n",
       "    <tr style=\"text-align: right;\">\n",
       "      <th></th>\n",
       "      <th>price</th>\n",
       "      <th>title</th>\n",
       "      <th>url</th>\n",
       "      <th>whyToBuy/0</th>\n",
       "      <th>item_country</th>\n",
       "      <th>item_state</th>\n",
       "      <th>item_city</th>\n",
       "      <th>card_year</th>\n",
       "      <th>card_brand</th>\n",
       "      <th>card_singed</th>\n",
       "    </tr>\n",
       "  </thead>\n",
       "  <tbody>\n",
       "    <tr>\n",
       "      <th>0</th>\n",
       "      <td>12630069.0</td>\n",
       "      <td>1986 86 Fleer Michael Jordan Rookie Sticker PSA 8(ST) # 06300690 CAREER HIGH PTS</td>\n",
       "      <td>https://www.ebay.com/itm/324272400062</td>\n",
       "      <td>Ships from United States</td>\n",
       "      <td>United States</td>\n",
       "      <td>Michigan</td>\n",
       "      <td>Dearborn</td>\n",
       "      <td>1986</td>\n",
       "      <td>Fleer</td>\n",
       "      <td>No</td>\n",
       "    </tr>\n",
       "    <tr>\n",
       "      <th>1</th>\n",
       "      <td>4500000.0</td>\n",
       "      <td>2003 TOM BRADY LEAF LIMITED # 12/12 GAME-WORN-2002-PRO-BOWL-JERSEY-AUTO-BGS 9/10</td>\n",
       "      <td>https://www.ebay.com/itm/195509543378</td>\n",
       "      <td>Ships from United States</td>\n",
       "      <td>United States</td>\n",
       "      <td>Michigan</td>\n",
       "      <td>Livonia</td>\n",
       "      <td>2003</td>\n",
       "      <td>Leaf</td>\n",
       "      <td>No</td>\n",
       "    </tr>\n",
       "    <tr>\n",
       "      <th>2</th>\n",
       "      <td>3200000.0</td>\n",
       "      <td>RARE ( PLAYERS HONORS )(#/10) 2000 TOM BRADY ROOKIE ABSOLUTE PLAYOFF PSA 9 POP 1</td>\n",
       "      <td>https://www.ebay.com/itm/193723287418</td>\n",
       "      <td>Ships from United States</td>\n",
       "      <td>United States</td>\n",
       "      <td>Michigan</td>\n",
       "      <td>Livonia</td>\n",
       "      <td>2000</td>\n",
       "      <td>Playoff</td>\n",
       "      <td>No</td>\n",
       "    </tr>\n",
       "    <tr>\n",
       "      <th>3</th>\n",
       "      <td>2000000.0</td>\n",
       "      <td>2018-19 PANINI CONTENDERS LUKA DONCIC PREMIUM GOLD RC AUTO BGS 9.5/10 POP 1</td>\n",
       "      <td>https://www.ebay.com/itm/165123068721</td>\n",
       "      <td>Ships from United States</td>\n",
       "      <td>United States</td>\n",
       "      <td>California</td>\n",
       "      <td>Rancho Cucamonga</td>\n",
       "      <td>2018</td>\n",
       "      <td>Panini</td>\n",
       "      <td>No</td>\n",
       "    </tr>\n",
       "    <tr>\n",
       "      <th>4</th>\n",
       "      <td>1500000.0</td>\n",
       "      <td>2020 Topps Chrome F1 Lewis Hamilton Silver Refractor Auto #F1A-LH (44/58) PSA 10</td>\n",
       "      <td>https://www.ebay.com/itm/194656052157</td>\n",
       "      <td>Free shipping and returns</td>\n",
       "      <td>United States</td>\n",
       "      <td>Virginia</td>\n",
       "      <td>Sterling</td>\n",
       "      <td>2020</td>\n",
       "      <td>Topps</td>\n",
       "      <td>No</td>\n",
       "    </tr>\n",
       "  </tbody>\n",
       "</table>\n",
       "</div>"
      ],
      "text/plain": [
       "        price  \\\n",
       "0  12630069.0   \n",
       "1   4500000.0   \n",
       "2   3200000.0   \n",
       "3   2000000.0   \n",
       "4   1500000.0   \n",
       "\n",
       "                                                                              title  \\\n",
       "0  1986 86 Fleer Michael Jordan Rookie Sticker PSA 8(ST) # 06300690 CAREER HIGH PTS   \n",
       "1  2003 TOM BRADY LEAF LIMITED # 12/12 GAME-WORN-2002-PRO-BOWL-JERSEY-AUTO-BGS 9/10   \n",
       "2  RARE ( PLAYERS HONORS )(#/10) 2000 TOM BRADY ROOKIE ABSOLUTE PLAYOFF PSA 9 POP 1   \n",
       "3       2018-19 PANINI CONTENDERS LUKA DONCIC PREMIUM GOLD RC AUTO BGS 9.5/10 POP 1   \n",
       "4  2020 Topps Chrome F1 Lewis Hamilton Silver Refractor Auto #F1A-LH (44/58) PSA 10   \n",
       "\n",
       "                                     url                 whyToBuy/0  \\\n",
       "0  https://www.ebay.com/itm/324272400062   Ships from United States   \n",
       "1  https://www.ebay.com/itm/195509543378   Ships from United States   \n",
       "2  https://www.ebay.com/itm/193723287418   Ships from United States   \n",
       "3  https://www.ebay.com/itm/165123068721   Ships from United States   \n",
       "4  https://www.ebay.com/itm/194656052157  Free shipping and returns   \n",
       "\n",
       "     item_country   item_state         item_city  card_year card_brand  \\\n",
       "0   United States     Michigan          Dearborn       1986      Fleer   \n",
       "1   United States     Michigan           Livonia       2003       Leaf   \n",
       "2   United States     Michigan           Livonia       2000    Playoff   \n",
       "3   United States   California  Rancho Cucamonga       2018     Panini   \n",
       "4   United States     Virginia          Sterling       2020      Topps   \n",
       "\n",
       "  card_singed  \n",
       "0          No  \n",
       "1          No  \n",
       "2          No  \n",
       "3          No  \n",
       "4          No  "
      ]
     },
     "execution_count": 87,
     "metadata": {},
     "output_type": "execute_result"
    }
   ],
   "source": [
    "# Sanity Check\n",
    "# load cleaned data and check\n",
    "df = pd.read_csv('psa data/ebay_cards_cleaned.csv')\n",
    "\n",
    "# check\n",
    "df.head()"
   ]
  },
  {
   "cell_type": "markdown",
   "id": "b0411950",
   "metadata": {},
   "source": [
    "---"
   ]
  }
 ],
 "metadata": {
  "kernelspec": {
   "display_name": "Python 3 (ipykernel)",
   "language": "python",
   "name": "python3"
  },
  "language_info": {
   "codemirror_mode": {
    "name": "ipython",
    "version": 3
   },
   "file_extension": ".py",
   "mimetype": "text/x-python",
   "name": "python",
   "nbconvert_exporter": "python",
   "pygments_lexer": "ipython3",
   "version": "3.8.8 (default, Apr 13 2021, 15:08:03) [MSC v.1916 64 bit (AMD64)]"
  },
  "vscode": {
   "interpreter": {
    "hash": "2554a4c2e1194931474ec10af47e6fed682071d6655671ba96198be756852604"
   }
  }
 },
 "nbformat": 4,
 "nbformat_minor": 5
}
